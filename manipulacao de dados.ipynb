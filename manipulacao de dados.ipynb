{
 "cells": [
  {
   "cell_type": "markdown",
   "metadata": {},
   "source": [
    "# Manipulando dados da b3"
   ]
  },
  {
   "cell_type": "markdown",
   "metadata": {},
   "source": [
    " ## Importando libs"
   ]
  },
  {
   "cell_type": "code",
   "execution_count": 45,
   "metadata": {},
   "outputs": [],
   "source": [
    "import os\n",
    "import pandas as pd\n",
    "import chardet"
   ]
  },
  {
   "cell_type": "code",
   "execution_count": null,
   "metadata": {},
   "outputs": [],
   "source": []
  },
  {
   "cell_type": "markdown",
   "metadata": {},
   "source": [
    "## Extraindo dados"
   ]
  },
  {
   "cell_type": "code",
   "execution_count": 39,
   "metadata": {},
   "outputs": [],
   "source": [
    "def read_files(path,name_file, year_date, type_file):\n",
    "    \"\"\"\n",
    "    Lê um arquivo de texto fixo com colunas de dados financeiros e retorna um DataFrame.\n",
    "\n",
    "    Args:\n",
    "        path (str): Caminho do diretório onde o arquivo está localizado.\n",
    "        name_file (str): Nome base do arquivo.\n",
    "        year_date (int or str): Ano ou data usada para compor o nome do arquivo.\n",
    "        type_file (str): Extensão do arquivo (ex: 'txt').\n",
    "\n",
    "    Returns:\n",
    "        pd.DataFrame: DataFrame contendo os dados lidos do arquivo com colunas pré-definidas.\n",
    "\n",
    "    Colunas:\n",
    "        - 'data_pregao': Data do pregão.\n",
    "        - 'codbdi': Código BDI (mercado de ações).\n",
    "        - 'sigla_acao': Sigla da ação.\n",
    "        - 'nome_acao': Nome da ação.\n",
    "        - 'preco_abertura': Preço de abertura.\n",
    "        - 'preco_maximo': Preço máximo.\n",
    "        - 'preco_minimo': Preço mínimo.\n",
    "        - 'preco_fechamento': Preço de fechamento.\n",
    "        - 'qtd_negocios': Quantidade de negócios.\n",
    "        - 'volume_negocios': Volume de negócios.\n",
    "\n",
    "    Observação:\n",
    "        Utiliza o método `pd.read_fwf` para ler o arquivo com colunas de largura fixa (`colspecs`).\n",
    "    \"\"\"\n",
    "    \n",
    "    _file = f\"{path}{name_file}{year_date}.{type_file}\"\n",
    "\n",
    "    colspecs = [\n",
    "        (2,10),\n",
    "        (10,12),\n",
    "        (12,24),\n",
    "        (27,39),\n",
    "        (56,69),\n",
    "        (69,82),\n",
    "        (82,95),\n",
    "        (108,121),\n",
    "        (152,170),\n",
    "        (170,188)\n",
    "    ]\n",
    "    \n",
    "    names = ['data_pregao','codbdi','sigla_acao','nome_acao','preco_abertura','preco_maximo','preco_minimo','preco_fechamento','qtd_negocios','volume_negocios']\n",
    "    df = pd.read_fwf(_file,colspecs = colspecs, names = names, skiprows = 1, encoding='latin-1')\n",
    "\n",
    "    return df"
   ]
  },
  {
   "cell_type": "markdown",
   "metadata": {},
   "source": [
    "## Filtrando lote padrão"
   ]
  },
  {
   "cell_type": "code",
   "execution_count": 40,
   "metadata": {},
   "outputs": [],
   "source": [
    "def filter_stocks(df):\n",
    "    \"\"\"\n",
    "    Filtra o DataFrame para manter apenas ações ordinárias (código BDI igual a 2).\n",
    "\n",
    "    Args:\n",
    "        df (pd.DataFrame): DataFrame contendo os dados financeiros.\n",
    "\n",
    "    Returns:\n",
    "        pd.DataFrame: DataFrame filtrado contendo apenas as ações ordinárias.\n",
    "    \n",
    "    Operações:\n",
    "        - Remove linhas onde o código BDI não é igual a 2.\n",
    "        - Remove a coluna 'codbdi' do DataFrame.\n",
    "    \"\"\"\n",
    "    df = df[df['codbdi']==2]\n",
    "    df = df.drop(['codbdi'], axis=1)\n",
    "    return df"
   ]
  },
  {
   "cell_type": "markdown",
   "metadata": {},
   "source": [
    "## Ajustando o campo das datas"
   ]
  },
  {
   "cell_type": "code",
   "execution_count": 41,
   "metadata": {},
   "outputs": [],
   "source": [
    "def parse_date(df):\n",
    "    \"\"\"\n",
    "    Converte a coluna 'data_pregao' para o formato datetime.\n",
    "\n",
    "    Args:\n",
    "        df (pd.DataFrame): DataFrame contendo a coluna 'data_pregao'.\n",
    "\n",
    "    Returns:\n",
    "        pd.DataFrame: DataFrame com a coluna 'data_pregao' convertida para formato datetime.\n",
    "\n",
    "    Operações:\n",
    "        - Converte os valores da coluna 'data_pregao' para o formato de data (YYYYMMDD).\n",
    "        - Utiliza a função `pd.to_datetime` com tratamento de erros.\n",
    "    \"\"\"\n",
    "    \n",
    "    df['data_pregao'] = pd.to_datetime(df['data_pregao'], format= '%Y%m%d',errors='coerce')\n",
    "    return df"
   ]
  },
  {
   "cell_type": "markdown",
   "metadata": {},
   "source": [
    "## Ajustando os campos numericos"
   ]
  },
  {
   "cell_type": "code",
   "execution_count": 42,
   "metadata": {},
   "outputs": [],
   "source": [
    "def parse_values(df):\n",
    "    \"\"\"\n",
    "    Converte os valores das colunas de preços de centavos para reais.\n",
    "\n",
    "    Args:\n",
    "        df (pd.DataFrame): DataFrame contendo os preços de abertura, máximo, mínimo e fechamento.\n",
    "\n",
    "    Returns:\n",
    "        pd.DataFrame: DataFrame com os valores das colunas de preços ajustados.\n",
    "\n",
    "    Operações:\n",
    "        - Divide os valores das colunas de preço por 100 para convertê-los de centavos para reais.\n",
    "        - Converte os valores para o tipo float.\n",
    "    \"\"\"\n",
    "\n",
    "    df['preco_abertura'] = (df['preco_abertura'] /100).astype(float)\n",
    "    df['preco_maximo'] = (df['preco_maximo'] /100).astype(float)\n",
    "    df['preco_minimo'] = (df['preco_minimo'] /100).astype(float)\n",
    "    df['preco_fechamento'] = (df['preco_fechamento'] /100).astype(float)\n",
    "    return df"
   ]
  },
  {
   "cell_type": "code",
   "execution_count": null,
   "metadata": {},
   "outputs": [],
   "source": []
  },
  {
   "cell_type": "markdown",
   "metadata": {},
   "source": [
    "## Juntando arquivos"
   ]
  },
  {
   "cell_type": "code",
   "execution_count": 43,
   "metadata": {},
   "outputs": [],
   "source": [
    "def concat_files(path, name_file, year_date, type_file, final_file):\n",
    "    \"\"\"\n",
    "    Concatena e processa arquivos de dados, salvando o resultado final em um arquivo CSV.\n",
    "\n",
    "    Args:\n",
    "        path (str): Caminho do diretório onde os arquivos estão localizados.\n",
    "        name_file (str): Nome base dos arquivos a serem lidos.\n",
    "        year_date (list): Lista de anos para identificar os arquivos a serem lidos.\n",
    "        type_file (str): Extensão ou tipo dos arquivos a serem lidos.\n",
    "        final_file (str): Nome do arquivo final onde o resultado será salvo.\n",
    "\n",
    "    Funções internas:\n",
    "        read_files: Lê os arquivos com base nos parâmetros fornecidos.\n",
    "        filter_stocks: Aplica filtros relacionados a ações no DataFrame.\n",
    "        parse_date: Processa e formata as colunas de datas.\n",
    "        parse_values: Processa e formata os valores no DataFrame.\n",
    "\n",
    "    Processamento:\n",
    "        - Para cada ano na lista `year_date`, o arquivo correspondente é lido e filtrado.\n",
    "        - O DataFrame resultante é concatenado ao DataFrame final.\n",
    "        - O DataFrame final é salvo em um arquivo CSV no diretório especificado.\n",
    "\n",
    "    Resultado:\n",
    "        Um arquivo CSV contendo a concatenação e o processamento dos dados de todos os anos especificados.\n",
    "    \"\"\"\n",
    "    \n",
    "    df_final = pd.DataFrame()\n",
    "    for i, y in enumerate(year_date):\n",
    "        df = read_files(path, name_file, y, type_file)\n",
    "        df = filter_stocks(df)\n",
    "        df = parse_date(df)\n",
    "        df = parse_values(df)\n",
    "\n",
    "        df_final = pd.concat([df_final,df], ignore_index=True)\n",
    "\n",
    "    output_file = os.path.join(path, final_file)\n",
    "    df_final.to_csv(output_file, index=False)"
   ]
  },
  {
   "cell_type": "markdown",
   "metadata": {},
   "source": [
    "## Executando programa etl"
   ]
  },
  {
   "cell_type": "code",
   "execution_count": 44,
   "metadata": {},
   "outputs": [],
   "source": [
    "year_date = ['2009','2010','2011','2012','2013','2014','2015','2016','2017','2018','2019','2020','2021','2022','2023','2024']\n",
    "path = 'C://Users//user//projects//b3//'\n",
    "name_file = 'COTAHIST_A'\n",
    "type_file = 'txt'\n",
    "final_file = 'all_bovespa(1).csv'\n",
    "concat_files(path, name_file, year_date, type_file, final_file)"
   ]
  },
  {
   "cell_type": "code",
   "execution_count": null,
   "metadata": {},
   "outputs": [],
   "source": []
  },
  {
   "cell_type": "code",
   "execution_count": null,
   "metadata": {},
   "outputs": [],
   "source": []
  },
  {
   "cell_type": "code",
   "execution_count": null,
   "metadata": {},
   "outputs": [],
   "source": []
  }
 ],
 "metadata": {
  "kernelspec": {
   "display_name": "Python 3 (ipykernel)",
   "language": "python",
   "name": "python3"
  },
  "language_info": {
   "codemirror_mode": {
    "name": "ipython",
    "version": 3
   },
   "file_extension": ".py",
   "mimetype": "text/x-python",
   "name": "python",
   "nbconvert_exporter": "python",
   "pygments_lexer": "ipython3",
   "version": "3.11.7"
  }
 },
 "nbformat": 4,
 "nbformat_minor": 4
}
