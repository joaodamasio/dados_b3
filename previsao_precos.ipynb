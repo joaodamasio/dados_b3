{
 "cells": [
  {
   "cell_type": "markdown",
   "id": "9d019cc2-0a1d-4e1f-af09-063aa0dc5d53",
   "metadata": {},
   "source": [
    "# Previsão do preço das ações"
   ]
  },
  {
   "cell_type": "markdown",
   "id": "ef33f9dd-4d6a-4117-aa04-e995b46beb8e",
   "metadata": {},
   "source": [
    "# Importando as bibliotecas"
   ]
  },
  {
   "cell_type": "code",
   "execution_count": 1,
   "id": "20e0c809-890a-4921-8df9-1d2349a055a7",
   "metadata": {},
   "outputs": [],
   "source": [
    "import pandas as pd\n",
    "\n",
    "# Seleciona os recursos de acordo com as K pontuações com base em uma func estatistica mais altas\n",
    "# Isso melhora o desempenho do modelo e reduz a comlpexidade computacional\n",
    "from sklearn.feature_selection import SelectKBest\n",
    "\n",
    "# Otimização de hiperparâmetros(como profundidade de uma árvore de decisão) para produzir melhor resultado no modelo\n",
    "from sklearn.model_selection import GridSearchCV\n",
    "\n",
    "# Modelo que usa redes neurais artificais para realizar a tarefa de regressao\n",
    "# Cria modelos comlpexos capazes de capturar relações não lineares nos dados para previsão de valores numericos\n",
    "from sklearn.neural_network import MLPRegressor\n",
    "\n",
    "# Normaliza os dados, garantindo que todas variaveis sejam tratadas da mesma forma em um modelo de aprendizado\n",
    "# Evita dominancia de variaveis no aprendizado do modelo e facilita a convergencia de algoritmos de otimização\n",
    "from sklearn.preprocessing import MinMaxScaler\n",
    "\n",
    "# datasets: módulo que fornece datasets pre carregados, facilita experimentos e aprendizado\n",
    "# linear_model: contem modelos lineares, como o linear regression para ser usados como baseline\n",
    "from sklearn import datasets, linear_model\n",
    "\n",
    "# mean_squared_error e r2: métricas para avaliação de modelos de regressão\n",
    "# mean_squared_error: mede o erro absoluto médio das previsões\n",
    "# r2: mede o quão bem o modelo se ajusta aos dados\n",
    "from sklearn.metrics import mean_squared_error, r2_score, mean_absolute_error\n",
    "\n",
    "# Essa é uma classe do modulo utilizada para normalizar os dados\n",
    "from sklearn.preprocessing import StandardScaler \n",
    "\n",
    "# A classe Pipeline do modulo é usada para encadear multiplos passos de processamento e modelagem\n",
    "from sklearn.pipeline import Pipeline\n",
    "\n",
    "import matplotlib.pyplot as plt\n",
    "%matplotlib inline"
   ]
  },
  {
   "cell_type": "markdown",
   "id": "8125bb3d-8447-4e68-b305-11de66caba24",
   "metadata": {},
   "source": [
    "## Carregando o dataset"
   ]
  },
  {
   "cell_type": "code",
   "execution_count": 2,
   "id": "bd3cd870-0982-4821-aa3c-445abd4ab02d",
   "metadata": {},
   "outputs": [],
   "source": [
    "df = pd.read_csv(\"./all_bovespa.csv\")"
   ]
  },
  {
   "cell_type": "code",
   "execution_count": 3,
   "id": "c4d3fb8d-6abc-4433-a398-e177682f4d05",
   "metadata": {},
   "outputs": [
    {
     "data": {
      "text/html": [
       "<div>\n",
       "<style scoped>\n",
       "    .dataframe tbody tr th:only-of-type {\n",
       "        vertical-align: middle;\n",
       "    }\n",
       "\n",
       "    .dataframe tbody tr th {\n",
       "        vertical-align: top;\n",
       "    }\n",
       "\n",
       "    .dataframe thead th {\n",
       "        text-align: right;\n",
       "    }\n",
       "</style>\n",
       "<table border=\"1\" class=\"dataframe\">\n",
       "  <thead>\n",
       "    <tr style=\"text-align: right;\">\n",
       "      <th></th>\n",
       "      <th>data_pregao</th>\n",
       "      <th>sigla_acao</th>\n",
       "      <th>nome_acao</th>\n",
       "      <th>preco_abertura</th>\n",
       "      <th>preco_maximo</th>\n",
       "      <th>preco_minimo</th>\n",
       "      <th>preco_fechamento</th>\n",
       "      <th>qtd_negocios</th>\n",
       "      <th>volume_negocios</th>\n",
       "    </tr>\n",
       "  </thead>\n",
       "  <tbody>\n",
       "    <tr>\n",
       "      <th>0</th>\n",
       "      <td>2009-01-02</td>\n",
       "      <td>ABCB4</td>\n",
       "      <td>ABC BRASIL</td>\n",
       "      <td>5.05</td>\n",
       "      <td>5.30</td>\n",
       "      <td>4.95</td>\n",
       "      <td>5.30</td>\n",
       "      <td>241000.0</td>\n",
       "      <td>1.228496e+08</td>\n",
       "    </tr>\n",
       "    <tr>\n",
       "      <th>1</th>\n",
       "      <td>2009-01-02</td>\n",
       "      <td>ABNB3</td>\n",
       "      <td>ABNOTE</td>\n",
       "      <td>10.77</td>\n",
       "      <td>10.99</td>\n",
       "      <td>10.76</td>\n",
       "      <td>10.90</td>\n",
       "      <td>7500.0</td>\n",
       "      <td>8.168000e+06</td>\n",
       "    </tr>\n",
       "    <tr>\n",
       "      <th>2</th>\n",
       "      <td>2009-01-02</td>\n",
       "      <td>ABYA3</td>\n",
       "      <td>ABYARA</td>\n",
       "      <td>1.55</td>\n",
       "      <td>1.64</td>\n",
       "      <td>1.53</td>\n",
       "      <td>1.61</td>\n",
       "      <td>109800.0</td>\n",
       "      <td>1.757500e+07</td>\n",
       "    </tr>\n",
       "    <tr>\n",
       "      <th>3</th>\n",
       "      <td>2009-01-02</td>\n",
       "      <td>ACGU3</td>\n",
       "      <td>GUARANI</td>\n",
       "      <td>2.10</td>\n",
       "      <td>2.19</td>\n",
       "      <td>2.10</td>\n",
       "      <td>2.19</td>\n",
       "      <td>27100.0</td>\n",
       "      <td>5.821600e+06</td>\n",
       "    </tr>\n",
       "    <tr>\n",
       "      <th>4</th>\n",
       "      <td>2009-01-02</td>\n",
       "      <td>AEDU11</td>\n",
       "      <td>ANHANGUERA</td>\n",
       "      <td>12.11</td>\n",
       "      <td>12.51</td>\n",
       "      <td>12.00</td>\n",
       "      <td>12.49</td>\n",
       "      <td>211500.0</td>\n",
       "      <td>2.619199e+08</td>\n",
       "    </tr>\n",
       "    <tr>\n",
       "      <th>...</th>\n",
       "      <td>...</td>\n",
       "      <td>...</td>\n",
       "      <td>...</td>\n",
       "      <td>...</td>\n",
       "      <td>...</td>\n",
       "      <td>...</td>\n",
       "      <td>...</td>\n",
       "      <td>...</td>\n",
       "      <td>...</td>\n",
       "    </tr>\n",
       "    <tr>\n",
       "      <th>1545682</th>\n",
       "      <td>2024-09-06</td>\n",
       "      <td>CSAN3</td>\n",
       "      <td>COSAN</td>\n",
       "      <td>13.38</td>\n",
       "      <td>13.43</td>\n",
       "      <td>12.89</td>\n",
       "      <td>12.89</td>\n",
       "      <td>7391300.0</td>\n",
       "      <td>9.663700e+09</td>\n",
       "    </tr>\n",
       "    <tr>\n",
       "      <th>1545683</th>\n",
       "      <td>2024-09-06</td>\n",
       "      <td>ELMD3</td>\n",
       "      <td>ELETROMIDIA</td>\n",
       "      <td>18.06</td>\n",
       "      <td>18.10</td>\n",
       "      <td>17.62</td>\n",
       "      <td>18.10</td>\n",
       "      <td>75700.0</td>\n",
       "      <td>1.350700e+08</td>\n",
       "    </tr>\n",
       "    <tr>\n",
       "      <th>1545684</th>\n",
       "      <td>2024-09-06</td>\n",
       "      <td>EMAE4</td>\n",
       "      <td>EMAE</td>\n",
       "      <td>39.97</td>\n",
       "      <td>40.70</td>\n",
       "      <td>39.77</td>\n",
       "      <td>39.77</td>\n",
       "      <td>4500.0</td>\n",
       "      <td>1.805580e+07</td>\n",
       "    </tr>\n",
       "    <tr>\n",
       "      <th>1545685</th>\n",
       "      <td>2024-09-06</td>\n",
       "      <td>EMBR3</td>\n",
       "      <td>EMBRAER</td>\n",
       "      <td>49.90</td>\n",
       "      <td>50.10</td>\n",
       "      <td>46.51</td>\n",
       "      <td>47.83</td>\n",
       "      <td>12306000.0</td>\n",
       "      <td>5.896760e+10</td>\n",
       "    </tr>\n",
       "    <tr>\n",
       "      <th>1545686</th>\n",
       "      <td>2024-09-06</td>\n",
       "      <td>JHSF3</td>\n",
       "      <td>JHSF PART</td>\n",
       "      <td>4.51</td>\n",
       "      <td>4.53</td>\n",
       "      <td>4.45</td>\n",
       "      <td>4.49</td>\n",
       "      <td>2594000.0</td>\n",
       "      <td>1.164014e+09</td>\n",
       "    </tr>\n",
       "  </tbody>\n",
       "</table>\n",
       "<p>1545687 rows × 9 columns</p>\n",
       "</div>"
      ],
      "text/plain": [
       "        data_pregao sigla_acao    nome_acao  preco_abertura  preco_maximo  \\\n",
       "0        2009-01-02      ABCB4   ABC BRASIL            5.05          5.30   \n",
       "1        2009-01-02      ABNB3       ABNOTE           10.77         10.99   \n",
       "2        2009-01-02      ABYA3       ABYARA            1.55          1.64   \n",
       "3        2009-01-02      ACGU3      GUARANI            2.10          2.19   \n",
       "4        2009-01-02     AEDU11   ANHANGUERA           12.11         12.51   \n",
       "...             ...        ...          ...             ...           ...   \n",
       "1545682  2024-09-06      CSAN3        COSAN           13.38         13.43   \n",
       "1545683  2024-09-06      ELMD3  ELETROMIDIA           18.06         18.10   \n",
       "1545684  2024-09-06      EMAE4         EMAE           39.97         40.70   \n",
       "1545685  2024-09-06      EMBR3      EMBRAER           49.90         50.10   \n",
       "1545686  2024-09-06      JHSF3    JHSF PART            4.51          4.53   \n",
       "\n",
       "         preco_minimo  preco_fechamento  qtd_negocios  volume_negocios  \n",
       "0                4.95              5.30      241000.0     1.228496e+08  \n",
       "1               10.76             10.90        7500.0     8.168000e+06  \n",
       "2                1.53              1.61      109800.0     1.757500e+07  \n",
       "3                2.10              2.19       27100.0     5.821600e+06  \n",
       "4               12.00             12.49      211500.0     2.619199e+08  \n",
       "...               ...               ...           ...              ...  \n",
       "1545682         12.89             12.89     7391300.0     9.663700e+09  \n",
       "1545683         17.62             18.10       75700.0     1.350700e+08  \n",
       "1545684         39.77             39.77        4500.0     1.805580e+07  \n",
       "1545685         46.51             47.83    12306000.0     5.896760e+10  \n",
       "1545686          4.45              4.49     2594000.0     1.164014e+09  \n",
       "\n",
       "[1545687 rows x 9 columns]"
      ]
     },
     "execution_count": 3,
     "metadata": {},
     "output_type": "execute_result"
    }
   ],
   "source": [
    "df"
   ]
  },
  {
   "cell_type": "code",
   "execution_count": 4,
   "id": "036e89c1-2614-403b-aef8-8fbb69598ffa",
   "metadata": {},
   "outputs": [],
   "source": [
    "#BRADESCO\n",
    "df_bradesco = df[df['sigla_acao'] == 'BBDC3']"
   ]
  },
  {
   "cell_type": "code",
   "execution_count": 5,
   "id": "c7a31887-fa75-4524-bcc0-4897349b5906",
   "metadata": {},
   "outputs": [
    {
     "data": {
      "text/html": [
       "<div>\n",
       "<style scoped>\n",
       "    .dataframe tbody tr th:only-of-type {\n",
       "        vertical-align: middle;\n",
       "    }\n",
       "\n",
       "    .dataframe tbody tr th {\n",
       "        vertical-align: top;\n",
       "    }\n",
       "\n",
       "    .dataframe thead th {\n",
       "        text-align: right;\n",
       "    }\n",
       "</style>\n",
       "<table border=\"1\" class=\"dataframe\">\n",
       "  <thead>\n",
       "    <tr style=\"text-align: right;\">\n",
       "      <th></th>\n",
       "      <th>data_pregao</th>\n",
       "      <th>sigla_acao</th>\n",
       "      <th>nome_acao</th>\n",
       "      <th>preco_abertura</th>\n",
       "      <th>preco_maximo</th>\n",
       "      <th>preco_minimo</th>\n",
       "      <th>preco_fechamento</th>\n",
       "      <th>qtd_negocios</th>\n",
       "      <th>volume_negocios</th>\n",
       "    </tr>\n",
       "  </thead>\n",
       "  <tbody>\n",
       "    <tr>\n",
       "      <th>22</th>\n",
       "      <td>2009-01-02</td>\n",
       "      <td>BBDC3</td>\n",
       "      <td>BRADESCO</td>\n",
       "      <td>20.00</td>\n",
       "      <td>21.10</td>\n",
       "      <td>19.60</td>\n",
       "      <td>21.10</td>\n",
       "      <td>180900.0</td>\n",
       "      <td>3.698934e+08</td>\n",
       "    </tr>\n",
       "    <tr>\n",
       "      <th>321</th>\n",
       "      <td>2009-01-05</td>\n",
       "      <td>BBDC3</td>\n",
       "      <td>BRADESCO</td>\n",
       "      <td>20.98</td>\n",
       "      <td>21.54</td>\n",
       "      <td>20.69</td>\n",
       "      <td>20.94</td>\n",
       "      <td>93300.0</td>\n",
       "      <td>1.967057e+08</td>\n",
       "    </tr>\n",
       "    <tr>\n",
       "      <th>650</th>\n",
       "      <td>2009-01-06</td>\n",
       "      <td>BBDC3</td>\n",
       "      <td>BRADESCO</td>\n",
       "      <td>21.00</td>\n",
       "      <td>21.54</td>\n",
       "      <td>20.95</td>\n",
       "      <td>21.30</td>\n",
       "      <td>69000.0</td>\n",
       "      <td>1.457220e+08</td>\n",
       "    </tr>\n",
       "    <tr>\n",
       "      <th>981</th>\n",
       "      <td>2009-01-07</td>\n",
       "      <td>BBDC3</td>\n",
       "      <td>BRADESCO</td>\n",
       "      <td>21.00</td>\n",
       "      <td>21.30</td>\n",
       "      <td>20.67</td>\n",
       "      <td>20.99</td>\n",
       "      <td>33800.0</td>\n",
       "      <td>7.065950e+07</td>\n",
       "    </tr>\n",
       "    <tr>\n",
       "      <th>1314</th>\n",
       "      <td>2009-01-08</td>\n",
       "      <td>BBDC3</td>\n",
       "      <td>BRADESCO</td>\n",
       "      <td>21.00</td>\n",
       "      <td>21.15</td>\n",
       "      <td>20.50</td>\n",
       "      <td>21.15</td>\n",
       "      <td>259000.0</td>\n",
       "      <td>5.415748e+08</td>\n",
       "    </tr>\n",
       "    <tr>\n",
       "      <th>...</th>\n",
       "      <td>...</td>\n",
       "      <td>...</td>\n",
       "      <td>...</td>\n",
       "      <td>...</td>\n",
       "      <td>...</td>\n",
       "      <td>...</td>\n",
       "      <td>...</td>\n",
       "      <td>...</td>\n",
       "      <td>...</td>\n",
       "    </tr>\n",
       "    <tr>\n",
       "      <th>1544224</th>\n",
       "      <td>2024-09-02</td>\n",
       "      <td>BBDC3</td>\n",
       "      <td>BRADESCO</td>\n",
       "      <td>14.03</td>\n",
       "      <td>14.09</td>\n",
       "      <td>13.97</td>\n",
       "      <td>14.02</td>\n",
       "      <td>2879800.0</td>\n",
       "      <td>4.038933e+09</td>\n",
       "    </tr>\n",
       "    <tr>\n",
       "      <th>1544626</th>\n",
       "      <td>2024-09-03</td>\n",
       "      <td>BBDC3</td>\n",
       "      <td>BRADESCO</td>\n",
       "      <td>14.04</td>\n",
       "      <td>14.24</td>\n",
       "      <td>14.01</td>\n",
       "      <td>14.21</td>\n",
       "      <td>5143100.0</td>\n",
       "      <td>7.283326e+09</td>\n",
       "    </tr>\n",
       "    <tr>\n",
       "      <th>1544902</th>\n",
       "      <td>2024-09-04</td>\n",
       "      <td>BBDC3</td>\n",
       "      <td>BRADESCO</td>\n",
       "      <td>14.25</td>\n",
       "      <td>14.50</td>\n",
       "      <td>14.21</td>\n",
       "      <td>14.29</td>\n",
       "      <td>5214100.0</td>\n",
       "      <td>7.487933e+09</td>\n",
       "    </tr>\n",
       "    <tr>\n",
       "      <th>1545268</th>\n",
       "      <td>2024-09-05</td>\n",
       "      <td>BBDC3</td>\n",
       "      <td>BRADESCO</td>\n",
       "      <td>14.29</td>\n",
       "      <td>14.48</td>\n",
       "      <td>14.26</td>\n",
       "      <td>14.38</td>\n",
       "      <td>3444200.0</td>\n",
       "      <td>4.952900e+09</td>\n",
       "    </tr>\n",
       "    <tr>\n",
       "      <th>1545512</th>\n",
       "      <td>2024-09-06</td>\n",
       "      <td>BBDC3</td>\n",
       "      <td>BRADESCO</td>\n",
       "      <td>14.36</td>\n",
       "      <td>14.43</td>\n",
       "      <td>14.10</td>\n",
       "      <td>14.17</td>\n",
       "      <td>3208700.0</td>\n",
       "      <td>4.554657e+09</td>\n",
       "    </tr>\n",
       "  </tbody>\n",
       "</table>\n",
       "<p>3886 rows × 9 columns</p>\n",
       "</div>"
      ],
      "text/plain": [
       "        data_pregao sigla_acao nome_acao  preco_abertura  preco_maximo  \\\n",
       "22       2009-01-02      BBDC3  BRADESCO           20.00         21.10   \n",
       "321      2009-01-05      BBDC3  BRADESCO           20.98         21.54   \n",
       "650      2009-01-06      BBDC3  BRADESCO           21.00         21.54   \n",
       "981      2009-01-07      BBDC3  BRADESCO           21.00         21.30   \n",
       "1314     2009-01-08      BBDC3  BRADESCO           21.00         21.15   \n",
       "...             ...        ...       ...             ...           ...   \n",
       "1544224  2024-09-02      BBDC3  BRADESCO           14.03         14.09   \n",
       "1544626  2024-09-03      BBDC3  BRADESCO           14.04         14.24   \n",
       "1544902  2024-09-04      BBDC3  BRADESCO           14.25         14.50   \n",
       "1545268  2024-09-05      BBDC3  BRADESCO           14.29         14.48   \n",
       "1545512  2024-09-06      BBDC3  BRADESCO           14.36         14.43   \n",
       "\n",
       "         preco_minimo  preco_fechamento  qtd_negocios  volume_negocios  \n",
       "22              19.60             21.10      180900.0     3.698934e+08  \n",
       "321             20.69             20.94       93300.0     1.967057e+08  \n",
       "650             20.95             21.30       69000.0     1.457220e+08  \n",
       "981             20.67             20.99       33800.0     7.065950e+07  \n",
       "1314            20.50             21.15      259000.0     5.415748e+08  \n",
       "...               ...               ...           ...              ...  \n",
       "1544224         13.97             14.02     2879800.0     4.038933e+09  \n",
       "1544626         14.01             14.21     5143100.0     7.283326e+09  \n",
       "1544902         14.21             14.29     5214100.0     7.487933e+09  \n",
       "1545268         14.26             14.38     3444200.0     4.952900e+09  \n",
       "1545512         14.10             14.17     3208700.0     4.554657e+09  \n",
       "\n",
       "[3886 rows x 9 columns]"
      ]
     },
     "execution_count": 5,
     "metadata": {},
     "output_type": "execute_result"
    }
   ],
   "source": [
    "df_bradesco"
   ]
  },
  {
   "cell_type": "markdown",
   "id": "0baeca4d-73c4-4e5a-9609-604c63a6337e",
   "metadata": {},
   "source": [
    "## Verficando o tipo dos dados"
   ]
  },
  {
   "cell_type": "code",
   "execution_count": 6,
   "id": "56a9b13b-2e4d-4e05-8cfe-16871423b495",
   "metadata": {},
   "outputs": [
    {
     "data": {
      "text/plain": [
       "data_pregao          object\n",
       "sigla_acao           object\n",
       "nome_acao            object\n",
       "preco_abertura      float64\n",
       "preco_maximo        float64\n",
       "preco_minimo        float64\n",
       "preco_fechamento    float64\n",
       "qtd_negocios        float64\n",
       "volume_negocios     float64\n",
       "dtype: object"
      ]
     },
     "execution_count": 6,
     "metadata": {},
     "output_type": "execute_result"
    }
   ],
   "source": [
    "df_bradesco.dtypes"
   ]
  },
  {
   "cell_type": "markdown",
   "id": "70d93173-c28d-4838-9c21-2b1eb69ef01a",
   "metadata": {},
   "source": [
    "## Alterando campo de data"
   ]
  },
  {
   "cell_type": "code",
   "execution_count": 7,
   "id": "5f98cb07-dabb-4201-a278-8deaaaa1ab47",
   "metadata": {},
   "outputs": [
    {
     "name": "stderr",
     "output_type": "stream",
     "text": [
      "C:\\Users\\joaov\\AppData\\Local\\Temp\\ipykernel_13780\\972754640.py:1: SettingWithCopyWarning: \n",
      "A value is trying to be set on a copy of a slice from a DataFrame.\n",
      "Try using .loc[row_indexer,col_indexer] = value instead\n",
      "\n",
      "See the caveats in the documentation: https://pandas.pydata.org/pandas-docs/stable/user_guide/indexing.html#returning-a-view-versus-a-copy\n",
      "  df_bradesco['data_pregao'] = pd.to_datetime(df_bradesco['data_pregao'], format = '%Y-%m-%d')\n"
     ]
    }
   ],
   "source": [
    "df_bradesco['data_pregao'] = pd.to_datetime(df_bradesco['data_pregao'], format = '%Y-%m-%d')"
   ]
  },
  {
   "cell_type": "code",
   "execution_count": 8,
   "id": "e8f8b563-c83a-4098-903b-9f45e9ec4518",
   "metadata": {},
   "outputs": [
    {
     "data": {
      "text/plain": [
       "data_pregao         datetime64[ns]\n",
       "sigla_acao                  object\n",
       "nome_acao                   object\n",
       "preco_abertura             float64\n",
       "preco_maximo               float64\n",
       "preco_minimo               float64\n",
       "preco_fechamento           float64\n",
       "qtd_negocios               float64\n",
       "volume_negocios            float64\n",
       "dtype: object"
      ]
     },
     "execution_count": 8,
     "metadata": {},
     "output_type": "execute_result"
    }
   ],
   "source": [
    "df_bradesco.dtypes"
   ]
  },
  {
   "cell_type": "markdown",
   "id": "55222942-95bb-451d-a6be-ff7ec6c4edb0",
   "metadata": {},
   "source": [
    "## Criando novos campos de médias móveis"
   ]
  },
  {
   "cell_type": "code",
   "execution_count": 9,
   "id": "20918192-6392-4a08-a494-b461b28d40b1",
   "metadata": {},
   "outputs": [
    {
     "name": "stderr",
     "output_type": "stream",
     "text": [
      "C:\\Users\\joaov\\AppData\\Local\\Temp\\ipykernel_13780\\1716317297.py:1: SettingWithCopyWarning: \n",
      "A value is trying to be set on a copy of a slice from a DataFrame.\n",
      "Try using .loc[row_indexer,col_indexer] = value instead\n",
      "\n",
      "See the caveats in the documentation: https://pandas.pydata.org/pandas-docs/stable/user_guide/indexing.html#returning-a-view-versus-a-copy\n",
      "  df_bradesco.loc[:,'mm5d'] = df_bradesco['preco_fechamento'].rolling(5).mean()\n",
      "C:\\Users\\joaov\\AppData\\Local\\Temp\\ipykernel_13780\\1716317297.py:2: SettingWithCopyWarning: \n",
      "A value is trying to be set on a copy of a slice from a DataFrame.\n",
      "Try using .loc[row_indexer,col_indexer] = value instead\n",
      "\n",
      "See the caveats in the documentation: https://pandas.pydata.org/pandas-docs/stable/user_guide/indexing.html#returning-a-view-versus-a-copy\n",
      "  df_bradesco.loc[:,'mm21d'] = df_bradesco['preco_fechamento'].rolling(21).mean()\n"
     ]
    }
   ],
   "source": [
    "df_bradesco.loc[:,'mm5d'] = df_bradesco['preco_fechamento'].rolling(5).mean()\n",
    "df_bradesco.loc[:,'mm21d'] = df_bradesco['preco_fechamento'].rolling(21).mean()"
   ]
  },
  {
   "cell_type": "code",
   "execution_count": 10,
   "id": "36f76bb7-e770-4fc7-8401-26c084387b96",
   "metadata": {},
   "outputs": [
    {
     "data": {
      "text/html": [
       "<div>\n",
       "<style scoped>\n",
       "    .dataframe tbody tr th:only-of-type {\n",
       "        vertical-align: middle;\n",
       "    }\n",
       "\n",
       "    .dataframe tbody tr th {\n",
       "        vertical-align: top;\n",
       "    }\n",
       "\n",
       "    .dataframe thead th {\n",
       "        text-align: right;\n",
       "    }\n",
       "</style>\n",
       "<table border=\"1\" class=\"dataframe\">\n",
       "  <thead>\n",
       "    <tr style=\"text-align: right;\">\n",
       "      <th></th>\n",
       "      <th>data_pregao</th>\n",
       "      <th>sigla_acao</th>\n",
       "      <th>nome_acao</th>\n",
       "      <th>preco_abertura</th>\n",
       "      <th>preco_maximo</th>\n",
       "      <th>preco_minimo</th>\n",
       "      <th>preco_fechamento</th>\n",
       "      <th>qtd_negocios</th>\n",
       "      <th>volume_negocios</th>\n",
       "      <th>mm5d</th>\n",
       "      <th>mm21d</th>\n",
       "    </tr>\n",
       "  </thead>\n",
       "  <tbody>\n",
       "    <tr>\n",
       "      <th>22</th>\n",
       "      <td>2009-01-02</td>\n",
       "      <td>BBDC3</td>\n",
       "      <td>BRADESCO</td>\n",
       "      <td>20.00</td>\n",
       "      <td>21.10</td>\n",
       "      <td>19.60</td>\n",
       "      <td>21.10</td>\n",
       "      <td>180900.0</td>\n",
       "      <td>3.698934e+08</td>\n",
       "      <td>NaN</td>\n",
       "      <td>NaN</td>\n",
       "    </tr>\n",
       "    <tr>\n",
       "      <th>321</th>\n",
       "      <td>2009-01-05</td>\n",
       "      <td>BBDC3</td>\n",
       "      <td>BRADESCO</td>\n",
       "      <td>20.98</td>\n",
       "      <td>21.54</td>\n",
       "      <td>20.69</td>\n",
       "      <td>20.94</td>\n",
       "      <td>93300.0</td>\n",
       "      <td>1.967057e+08</td>\n",
       "      <td>NaN</td>\n",
       "      <td>NaN</td>\n",
       "    </tr>\n",
       "    <tr>\n",
       "      <th>650</th>\n",
       "      <td>2009-01-06</td>\n",
       "      <td>BBDC3</td>\n",
       "      <td>BRADESCO</td>\n",
       "      <td>21.00</td>\n",
       "      <td>21.54</td>\n",
       "      <td>20.95</td>\n",
       "      <td>21.30</td>\n",
       "      <td>69000.0</td>\n",
       "      <td>1.457220e+08</td>\n",
       "      <td>NaN</td>\n",
       "      <td>NaN</td>\n",
       "    </tr>\n",
       "    <tr>\n",
       "      <th>981</th>\n",
       "      <td>2009-01-07</td>\n",
       "      <td>BBDC3</td>\n",
       "      <td>BRADESCO</td>\n",
       "      <td>21.00</td>\n",
       "      <td>21.30</td>\n",
       "      <td>20.67</td>\n",
       "      <td>20.99</td>\n",
       "      <td>33800.0</td>\n",
       "      <td>7.065950e+07</td>\n",
       "      <td>NaN</td>\n",
       "      <td>NaN</td>\n",
       "    </tr>\n",
       "    <tr>\n",
       "      <th>1314</th>\n",
       "      <td>2009-01-08</td>\n",
       "      <td>BBDC3</td>\n",
       "      <td>BRADESCO</td>\n",
       "      <td>21.00</td>\n",
       "      <td>21.15</td>\n",
       "      <td>20.50</td>\n",
       "      <td>21.15</td>\n",
       "      <td>259000.0</td>\n",
       "      <td>5.415748e+08</td>\n",
       "      <td>21.096</td>\n",
       "      <td>NaN</td>\n",
       "    </tr>\n",
       "    <tr>\n",
       "      <th>...</th>\n",
       "      <td>...</td>\n",
       "      <td>...</td>\n",
       "      <td>...</td>\n",
       "      <td>...</td>\n",
       "      <td>...</td>\n",
       "      <td>...</td>\n",
       "      <td>...</td>\n",
       "      <td>...</td>\n",
       "      <td>...</td>\n",
       "      <td>...</td>\n",
       "      <td>...</td>\n",
       "    </tr>\n",
       "    <tr>\n",
       "      <th>1544224</th>\n",
       "      <td>2024-09-02</td>\n",
       "      <td>BBDC3</td>\n",
       "      <td>BRADESCO</td>\n",
       "      <td>14.03</td>\n",
       "      <td>14.09</td>\n",
       "      <td>13.97</td>\n",
       "      <td>14.02</td>\n",
       "      <td>2879800.0</td>\n",
       "      <td>4.038933e+09</td>\n",
       "      <td>14.084</td>\n",
       "      <td>13.579048</td>\n",
       "    </tr>\n",
       "    <tr>\n",
       "      <th>1544626</th>\n",
       "      <td>2024-09-03</td>\n",
       "      <td>BBDC3</td>\n",
       "      <td>BRADESCO</td>\n",
       "      <td>14.04</td>\n",
       "      <td>14.24</td>\n",
       "      <td>14.01</td>\n",
       "      <td>14.21</td>\n",
       "      <td>5143100.0</td>\n",
       "      <td>7.283326e+09</td>\n",
       "      <td>14.128</td>\n",
       "      <td>13.671429</td>\n",
       "    </tr>\n",
       "    <tr>\n",
       "      <th>1544902</th>\n",
       "      <td>2024-09-04</td>\n",
       "      <td>BBDC3</td>\n",
       "      <td>BRADESCO</td>\n",
       "      <td>14.25</td>\n",
       "      <td>14.50</td>\n",
       "      <td>14.21</td>\n",
       "      <td>14.29</td>\n",
       "      <td>5214100.0</td>\n",
       "      <td>7.487933e+09</td>\n",
       "      <td>14.152</td>\n",
       "      <td>13.747619</td>\n",
       "    </tr>\n",
       "    <tr>\n",
       "      <th>1545268</th>\n",
       "      <td>2024-09-05</td>\n",
       "      <td>BBDC3</td>\n",
       "      <td>BRADESCO</td>\n",
       "      <td>14.29</td>\n",
       "      <td>14.48</td>\n",
       "      <td>14.26</td>\n",
       "      <td>14.38</td>\n",
       "      <td>3444200.0</td>\n",
       "      <td>4.952900e+09</td>\n",
       "      <td>14.208</td>\n",
       "      <td>13.829524</td>\n",
       "    </tr>\n",
       "    <tr>\n",
       "      <th>1545512</th>\n",
       "      <td>2024-09-06</td>\n",
       "      <td>BBDC3</td>\n",
       "      <td>BRADESCO</td>\n",
       "      <td>14.36</td>\n",
       "      <td>14.43</td>\n",
       "      <td>14.10</td>\n",
       "      <td>14.17</td>\n",
       "      <td>3208700.0</td>\n",
       "      <td>4.554657e+09</td>\n",
       "      <td>14.214</td>\n",
       "      <td>13.895714</td>\n",
       "    </tr>\n",
       "  </tbody>\n",
       "</table>\n",
       "<p>3886 rows × 11 columns</p>\n",
       "</div>"
      ],
      "text/plain": [
       "        data_pregao sigla_acao nome_acao  preco_abertura  preco_maximo  \\\n",
       "22       2009-01-02      BBDC3  BRADESCO           20.00         21.10   \n",
       "321      2009-01-05      BBDC3  BRADESCO           20.98         21.54   \n",
       "650      2009-01-06      BBDC3  BRADESCO           21.00         21.54   \n",
       "981      2009-01-07      BBDC3  BRADESCO           21.00         21.30   \n",
       "1314     2009-01-08      BBDC3  BRADESCO           21.00         21.15   \n",
       "...             ...        ...       ...             ...           ...   \n",
       "1544224  2024-09-02      BBDC3  BRADESCO           14.03         14.09   \n",
       "1544626  2024-09-03      BBDC3  BRADESCO           14.04         14.24   \n",
       "1544902  2024-09-04      BBDC3  BRADESCO           14.25         14.50   \n",
       "1545268  2024-09-05      BBDC3  BRADESCO           14.29         14.48   \n",
       "1545512  2024-09-06      BBDC3  BRADESCO           14.36         14.43   \n",
       "\n",
       "         preco_minimo  preco_fechamento  qtd_negocios  volume_negocios  \\\n",
       "22              19.60             21.10      180900.0     3.698934e+08   \n",
       "321             20.69             20.94       93300.0     1.967057e+08   \n",
       "650             20.95             21.30       69000.0     1.457220e+08   \n",
       "981             20.67             20.99       33800.0     7.065950e+07   \n",
       "1314            20.50             21.15      259000.0     5.415748e+08   \n",
       "...               ...               ...           ...              ...   \n",
       "1544224         13.97             14.02     2879800.0     4.038933e+09   \n",
       "1544626         14.01             14.21     5143100.0     7.283326e+09   \n",
       "1544902         14.21             14.29     5214100.0     7.487933e+09   \n",
       "1545268         14.26             14.38     3444200.0     4.952900e+09   \n",
       "1545512         14.10             14.17     3208700.0     4.554657e+09   \n",
       "\n",
       "           mm5d      mm21d  \n",
       "22          NaN        NaN  \n",
       "321         NaN        NaN  \n",
       "650         NaN        NaN  \n",
       "981         NaN        NaN  \n",
       "1314     21.096        NaN  \n",
       "...         ...        ...  \n",
       "1544224  14.084  13.579048  \n",
       "1544626  14.128  13.671429  \n",
       "1544902  14.152  13.747619  \n",
       "1545268  14.208  13.829524  \n",
       "1545512  14.214  13.895714  \n",
       "\n",
       "[3886 rows x 11 columns]"
      ]
     },
     "execution_count": 10,
     "metadata": {},
     "output_type": "execute_result"
    }
   ],
   "source": [
    "df_bradesco"
   ]
  },
  {
   "cell_type": "markdown",
   "id": "8162085c-1475-4020-8513-be8f92f01a42",
   "metadata": {},
   "source": [
    "## Ajustando para 1 dia a frente"
   ]
  },
  {
   "cell_type": "code",
   "execution_count": 11,
   "id": "977912da-7459-4ef5-8cad-04bcdd72032b",
   "metadata": {},
   "outputs": [
    {
     "name": "stderr",
     "output_type": "stream",
     "text": [
      "C:\\Users\\joaov\\AppData\\Local\\Temp\\ipykernel_13780\\3583233017.py:4: SettingWithCopyWarning: \n",
      "A value is trying to be set on a copy of a slice from a DataFrame\n",
      "\n",
      "See the caveats in the documentation: https://pandas.pydata.org/pandas-docs/stable/user_guide/indexing.html#returning-a-view-versus-a-copy\n",
      "  df_bradesco.dropna(inplace=True)\n"
     ]
    },
    {
     "data": {
      "text/html": [
       "<div>\n",
       "<style scoped>\n",
       "    .dataframe tbody tr th:only-of-type {\n",
       "        vertical-align: middle;\n",
       "    }\n",
       "\n",
       "    .dataframe tbody tr th {\n",
       "        vertical-align: top;\n",
       "    }\n",
       "\n",
       "    .dataframe thead th {\n",
       "        text-align: right;\n",
       "    }\n",
       "</style>\n",
       "<table border=\"1\" class=\"dataframe\">\n",
       "  <thead>\n",
       "    <tr style=\"text-align: right;\">\n",
       "      <th></th>\n",
       "      <th>data_pregao</th>\n",
       "      <th>sigla_acao</th>\n",
       "      <th>nome_acao</th>\n",
       "      <th>preco_abertura</th>\n",
       "      <th>preco_maximo</th>\n",
       "      <th>preco_minimo</th>\n",
       "      <th>preco_fechamento</th>\n",
       "      <th>qtd_negocios</th>\n",
       "      <th>volume_negocios</th>\n",
       "      <th>mm5d</th>\n",
       "      <th>mm21d</th>\n",
       "    </tr>\n",
       "  </thead>\n",
       "  <tbody>\n",
       "    <tr>\n",
       "      <th>6292</th>\n",
       "      <td>2009-01-30</td>\n",
       "      <td>BBDC3</td>\n",
       "      <td>BRADESCO</td>\n",
       "      <td>18.20</td>\n",
       "      <td>18.37</td>\n",
       "      <td>17.97</td>\n",
       "      <td>17.89</td>\n",
       "      <td>49300.0</td>\n",
       "      <td>8.924360e+07</td>\n",
       "      <td>18.288</td>\n",
       "      <td>19.262381</td>\n",
       "    </tr>\n",
       "    <tr>\n",
       "      <th>6617</th>\n",
       "      <td>2009-02-02</td>\n",
       "      <td>BBDC3</td>\n",
       "      <td>BRADESCO</td>\n",
       "      <td>18.19</td>\n",
       "      <td>18.19</td>\n",
       "      <td>17.51</td>\n",
       "      <td>17.83</td>\n",
       "      <td>40800.0</td>\n",
       "      <td>7.212550e+07</td>\n",
       "      <td>18.216</td>\n",
       "      <td>19.109524</td>\n",
       "    </tr>\n",
       "    <tr>\n",
       "      <th>6923</th>\n",
       "      <td>2009-02-03</td>\n",
       "      <td>BBDC3</td>\n",
       "      <td>BRADESCO</td>\n",
       "      <td>17.90</td>\n",
       "      <td>17.90</td>\n",
       "      <td>17.35</td>\n",
       "      <td>18.07</td>\n",
       "      <td>115100.0</td>\n",
       "      <td>2.027093e+08</td>\n",
       "      <td>18.146</td>\n",
       "      <td>18.961429</td>\n",
       "    </tr>\n",
       "    <tr>\n",
       "      <th>7232</th>\n",
       "      <td>2009-02-04</td>\n",
       "      <td>BBDC3</td>\n",
       "      <td>BRADESCO</td>\n",
       "      <td>17.90</td>\n",
       "      <td>18.30</td>\n",
       "      <td>17.74</td>\n",
       "      <td>18.61</td>\n",
       "      <td>54700.0</td>\n",
       "      <td>9.851760e+07</td>\n",
       "      <td>18.038</td>\n",
       "      <td>18.807619</td>\n",
       "    </tr>\n",
       "    <tr>\n",
       "      <th>7551</th>\n",
       "      <td>2009-02-05</td>\n",
       "      <td>BBDC3</td>\n",
       "      <td>BRADESCO</td>\n",
       "      <td>18.00</td>\n",
       "      <td>18.80</td>\n",
       "      <td>17.78</td>\n",
       "      <td>18.91</td>\n",
       "      <td>99800.0</td>\n",
       "      <td>1.834868e+08</td>\n",
       "      <td>18.120</td>\n",
       "      <td>18.694286</td>\n",
       "    </tr>\n",
       "    <tr>\n",
       "      <th>...</th>\n",
       "      <td>...</td>\n",
       "      <td>...</td>\n",
       "      <td>...</td>\n",
       "      <td>...</td>\n",
       "      <td>...</td>\n",
       "      <td>...</td>\n",
       "      <td>...</td>\n",
       "      <td>...</td>\n",
       "      <td>...</td>\n",
       "      <td>...</td>\n",
       "      <td>...</td>\n",
       "    </tr>\n",
       "    <tr>\n",
       "      <th>1543939</th>\n",
       "      <td>2024-08-30</td>\n",
       "      <td>BBDC3</td>\n",
       "      <td>BRADESCO</td>\n",
       "      <td>13.98</td>\n",
       "      <td>14.15</td>\n",
       "      <td>13.98</td>\n",
       "      <td>14.02</td>\n",
       "      <td>10668200.0</td>\n",
       "      <td>1.506262e+10</td>\n",
       "      <td>14.106</td>\n",
       "      <td>13.450952</td>\n",
       "    </tr>\n",
       "    <tr>\n",
       "      <th>1544224</th>\n",
       "      <td>2024-09-02</td>\n",
       "      <td>BBDC3</td>\n",
       "      <td>BRADESCO</td>\n",
       "      <td>14.03</td>\n",
       "      <td>14.09</td>\n",
       "      <td>13.97</td>\n",
       "      <td>14.21</td>\n",
       "      <td>2879800.0</td>\n",
       "      <td>4.038933e+09</td>\n",
       "      <td>14.084</td>\n",
       "      <td>13.579048</td>\n",
       "    </tr>\n",
       "    <tr>\n",
       "      <th>1544626</th>\n",
       "      <td>2024-09-03</td>\n",
       "      <td>BBDC3</td>\n",
       "      <td>BRADESCO</td>\n",
       "      <td>14.04</td>\n",
       "      <td>14.24</td>\n",
       "      <td>14.01</td>\n",
       "      <td>14.29</td>\n",
       "      <td>5143100.0</td>\n",
       "      <td>7.283326e+09</td>\n",
       "      <td>14.128</td>\n",
       "      <td>13.671429</td>\n",
       "    </tr>\n",
       "    <tr>\n",
       "      <th>1544902</th>\n",
       "      <td>2024-09-04</td>\n",
       "      <td>BBDC3</td>\n",
       "      <td>BRADESCO</td>\n",
       "      <td>14.25</td>\n",
       "      <td>14.50</td>\n",
       "      <td>14.21</td>\n",
       "      <td>14.38</td>\n",
       "      <td>5214100.0</td>\n",
       "      <td>7.487933e+09</td>\n",
       "      <td>14.152</td>\n",
       "      <td>13.747619</td>\n",
       "    </tr>\n",
       "    <tr>\n",
       "      <th>1545268</th>\n",
       "      <td>2024-09-05</td>\n",
       "      <td>BBDC3</td>\n",
       "      <td>BRADESCO</td>\n",
       "      <td>14.29</td>\n",
       "      <td>14.48</td>\n",
       "      <td>14.26</td>\n",
       "      <td>14.17</td>\n",
       "      <td>3444200.0</td>\n",
       "      <td>4.952900e+09</td>\n",
       "      <td>14.208</td>\n",
       "      <td>13.829524</td>\n",
       "    </tr>\n",
       "  </tbody>\n",
       "</table>\n",
       "<p>3865 rows × 11 columns</p>\n",
       "</div>"
      ],
      "text/plain": [
       "        data_pregao sigla_acao nome_acao  preco_abertura  preco_maximo  \\\n",
       "6292     2009-01-30      BBDC3  BRADESCO           18.20         18.37   \n",
       "6617     2009-02-02      BBDC3  BRADESCO           18.19         18.19   \n",
       "6923     2009-02-03      BBDC3  BRADESCO           17.90         17.90   \n",
       "7232     2009-02-04      BBDC3  BRADESCO           17.90         18.30   \n",
       "7551     2009-02-05      BBDC3  BRADESCO           18.00         18.80   \n",
       "...             ...        ...       ...             ...           ...   \n",
       "1543939  2024-08-30      BBDC3  BRADESCO           13.98         14.15   \n",
       "1544224  2024-09-02      BBDC3  BRADESCO           14.03         14.09   \n",
       "1544626  2024-09-03      BBDC3  BRADESCO           14.04         14.24   \n",
       "1544902  2024-09-04      BBDC3  BRADESCO           14.25         14.50   \n",
       "1545268  2024-09-05      BBDC3  BRADESCO           14.29         14.48   \n",
       "\n",
       "         preco_minimo  preco_fechamento  qtd_negocios  volume_negocios  \\\n",
       "6292            17.97             17.89       49300.0     8.924360e+07   \n",
       "6617            17.51             17.83       40800.0     7.212550e+07   \n",
       "6923            17.35             18.07      115100.0     2.027093e+08   \n",
       "7232            17.74             18.61       54700.0     9.851760e+07   \n",
       "7551            17.78             18.91       99800.0     1.834868e+08   \n",
       "...               ...               ...           ...              ...   \n",
       "1543939         13.98             14.02    10668200.0     1.506262e+10   \n",
       "1544224         13.97             14.21     2879800.0     4.038933e+09   \n",
       "1544626         14.01             14.29     5143100.0     7.283326e+09   \n",
       "1544902         14.21             14.38     5214100.0     7.487933e+09   \n",
       "1545268         14.26             14.17     3444200.0     4.952900e+09   \n",
       "\n",
       "           mm5d      mm21d  \n",
       "6292     18.288  19.262381  \n",
       "6617     18.216  19.109524  \n",
       "6923     18.146  18.961429  \n",
       "7232     18.038  18.807619  \n",
       "7551     18.120  18.694286  \n",
       "...         ...        ...  \n",
       "1543939  14.106  13.450952  \n",
       "1544224  14.084  13.579048  \n",
       "1544626  14.128  13.671429  \n",
       "1544902  14.152  13.747619  \n",
       "1545268  14.208  13.829524  \n",
       "\n",
       "[3865 rows x 11 columns]"
      ]
     },
     "execution_count": 11,
     "metadata": {},
     "output_type": "execute_result"
    }
   ],
   "source": [
    "# Prevendo o valor da ação para o dia seguinte\n",
    "\n",
    "df_bradesco.loc[:,'preco_fechamento'] = df_bradesco['preco_fechamento'].shift(-1)\n",
    "df_bradesco.dropna(inplace=True)\n",
    "df_bradesco"
   ]
  },
  {
   "cell_type": "markdown",
   "id": "59372b3b-4b45-4efe-bc3a-723dc8d20037",
   "metadata": {},
   "source": [
    "## Verificando quantidade de linhas"
   ]
  },
  {
   "cell_type": "code",
   "execution_count": 12,
   "id": "355cbf18-04fd-43ac-8169-8e6c0ff20511",
   "metadata": {},
   "outputs": [
    {
     "data": {
      "text/plain": [
       "'linhas de treino = 0: 3165 linhas teste = 3165:3850 linhas validacoes= 3850:3865 '"
      ]
     },
     "execution_count": 12,
     "metadata": {},
     "output_type": "execute_result"
    }
   ],
   "source": [
    "qtd_linhas = len(df_bradesco)\n",
    "qtd_linhas_treino = qtd_linhas - 700\n",
    "qtd_linhas_teste = qtd_linhas -15\n",
    "\n",
    "qtd_linhas_validacao = qtd_linhas_treino - qtd_linhas_teste\n",
    "\n",
    "info =(\n",
    "    f\"linhas de treino = 0: {qtd_linhas_treino} \" \n",
    "    f\"linhas teste = {qtd_linhas_treino}:{qtd_linhas_teste} \"\n",
    "    f\"linhas validacoes= {qtd_linhas_teste}:{qtd_linhas} \"\n",
    ")\n",
    "\n",
    "info"
   ]
  },
  {
   "cell_type": "markdown",
   "id": "87880991-5d89-4c17-be68-f0ffb3147b31",
   "metadata": {},
   "source": [
    "## Reidexando o dataset"
   ]
  },
  {
   "cell_type": "code",
   "execution_count": 13,
   "id": "c6c7b807-ec8f-4d16-b0b4-25ce0da367dc",
   "metadata": {},
   "outputs": [
    {
     "data": {
      "text/html": [
       "<div>\n",
       "<style scoped>\n",
       "    .dataframe tbody tr th:only-of-type {\n",
       "        vertical-align: middle;\n",
       "    }\n",
       "\n",
       "    .dataframe tbody tr th {\n",
       "        vertical-align: top;\n",
       "    }\n",
       "\n",
       "    .dataframe thead th {\n",
       "        text-align: right;\n",
       "    }\n",
       "</style>\n",
       "<table border=\"1\" class=\"dataframe\">\n",
       "  <thead>\n",
       "    <tr style=\"text-align: right;\">\n",
       "      <th></th>\n",
       "      <th>data_pregao</th>\n",
       "      <th>sigla_acao</th>\n",
       "      <th>nome_acao</th>\n",
       "      <th>preco_abertura</th>\n",
       "      <th>preco_maximo</th>\n",
       "      <th>preco_minimo</th>\n",
       "      <th>preco_fechamento</th>\n",
       "      <th>qtd_negocios</th>\n",
       "      <th>volume_negocios</th>\n",
       "      <th>mm5d</th>\n",
       "      <th>mm21d</th>\n",
       "    </tr>\n",
       "  </thead>\n",
       "  <tbody>\n",
       "    <tr>\n",
       "      <th>0</th>\n",
       "      <td>2009-01-30</td>\n",
       "      <td>BBDC3</td>\n",
       "      <td>BRADESCO</td>\n",
       "      <td>18.20</td>\n",
       "      <td>18.37</td>\n",
       "      <td>17.97</td>\n",
       "      <td>17.89</td>\n",
       "      <td>49300.0</td>\n",
       "      <td>8.924360e+07</td>\n",
       "      <td>18.288</td>\n",
       "      <td>19.262381</td>\n",
       "    </tr>\n",
       "    <tr>\n",
       "      <th>1</th>\n",
       "      <td>2009-02-02</td>\n",
       "      <td>BBDC3</td>\n",
       "      <td>BRADESCO</td>\n",
       "      <td>18.19</td>\n",
       "      <td>18.19</td>\n",
       "      <td>17.51</td>\n",
       "      <td>17.83</td>\n",
       "      <td>40800.0</td>\n",
       "      <td>7.212550e+07</td>\n",
       "      <td>18.216</td>\n",
       "      <td>19.109524</td>\n",
       "    </tr>\n",
       "    <tr>\n",
       "      <th>2</th>\n",
       "      <td>2009-02-03</td>\n",
       "      <td>BBDC3</td>\n",
       "      <td>BRADESCO</td>\n",
       "      <td>17.90</td>\n",
       "      <td>17.90</td>\n",
       "      <td>17.35</td>\n",
       "      <td>18.07</td>\n",
       "      <td>115100.0</td>\n",
       "      <td>2.027093e+08</td>\n",
       "      <td>18.146</td>\n",
       "      <td>18.961429</td>\n",
       "    </tr>\n",
       "    <tr>\n",
       "      <th>3</th>\n",
       "      <td>2009-02-04</td>\n",
       "      <td>BBDC3</td>\n",
       "      <td>BRADESCO</td>\n",
       "      <td>17.90</td>\n",
       "      <td>18.30</td>\n",
       "      <td>17.74</td>\n",
       "      <td>18.61</td>\n",
       "      <td>54700.0</td>\n",
       "      <td>9.851760e+07</td>\n",
       "      <td>18.038</td>\n",
       "      <td>18.807619</td>\n",
       "    </tr>\n",
       "    <tr>\n",
       "      <th>4</th>\n",
       "      <td>2009-02-05</td>\n",
       "      <td>BBDC3</td>\n",
       "      <td>BRADESCO</td>\n",
       "      <td>18.00</td>\n",
       "      <td>18.80</td>\n",
       "      <td>17.78</td>\n",
       "      <td>18.91</td>\n",
       "      <td>99800.0</td>\n",
       "      <td>1.834868e+08</td>\n",
       "      <td>18.120</td>\n",
       "      <td>18.694286</td>\n",
       "    </tr>\n",
       "    <tr>\n",
       "      <th>...</th>\n",
       "      <td>...</td>\n",
       "      <td>...</td>\n",
       "      <td>...</td>\n",
       "      <td>...</td>\n",
       "      <td>...</td>\n",
       "      <td>...</td>\n",
       "      <td>...</td>\n",
       "      <td>...</td>\n",
       "      <td>...</td>\n",
       "      <td>...</td>\n",
       "      <td>...</td>\n",
       "    </tr>\n",
       "    <tr>\n",
       "      <th>3860</th>\n",
       "      <td>2024-08-30</td>\n",
       "      <td>BBDC3</td>\n",
       "      <td>BRADESCO</td>\n",
       "      <td>13.98</td>\n",
       "      <td>14.15</td>\n",
       "      <td>13.98</td>\n",
       "      <td>14.02</td>\n",
       "      <td>10668200.0</td>\n",
       "      <td>1.506262e+10</td>\n",
       "      <td>14.106</td>\n",
       "      <td>13.450952</td>\n",
       "    </tr>\n",
       "    <tr>\n",
       "      <th>3861</th>\n",
       "      <td>2024-09-02</td>\n",
       "      <td>BBDC3</td>\n",
       "      <td>BRADESCO</td>\n",
       "      <td>14.03</td>\n",
       "      <td>14.09</td>\n",
       "      <td>13.97</td>\n",
       "      <td>14.21</td>\n",
       "      <td>2879800.0</td>\n",
       "      <td>4.038933e+09</td>\n",
       "      <td>14.084</td>\n",
       "      <td>13.579048</td>\n",
       "    </tr>\n",
       "    <tr>\n",
       "      <th>3862</th>\n",
       "      <td>2024-09-03</td>\n",
       "      <td>BBDC3</td>\n",
       "      <td>BRADESCO</td>\n",
       "      <td>14.04</td>\n",
       "      <td>14.24</td>\n",
       "      <td>14.01</td>\n",
       "      <td>14.29</td>\n",
       "      <td>5143100.0</td>\n",
       "      <td>7.283326e+09</td>\n",
       "      <td>14.128</td>\n",
       "      <td>13.671429</td>\n",
       "    </tr>\n",
       "    <tr>\n",
       "      <th>3863</th>\n",
       "      <td>2024-09-04</td>\n",
       "      <td>BBDC3</td>\n",
       "      <td>BRADESCO</td>\n",
       "      <td>14.25</td>\n",
       "      <td>14.50</td>\n",
       "      <td>14.21</td>\n",
       "      <td>14.38</td>\n",
       "      <td>5214100.0</td>\n",
       "      <td>7.487933e+09</td>\n",
       "      <td>14.152</td>\n",
       "      <td>13.747619</td>\n",
       "    </tr>\n",
       "    <tr>\n",
       "      <th>3864</th>\n",
       "      <td>2024-09-05</td>\n",
       "      <td>BBDC3</td>\n",
       "      <td>BRADESCO</td>\n",
       "      <td>14.29</td>\n",
       "      <td>14.48</td>\n",
       "      <td>14.26</td>\n",
       "      <td>14.17</td>\n",
       "      <td>3444200.0</td>\n",
       "      <td>4.952900e+09</td>\n",
       "      <td>14.208</td>\n",
       "      <td>13.829524</td>\n",
       "    </tr>\n",
       "  </tbody>\n",
       "</table>\n",
       "<p>3865 rows × 11 columns</p>\n",
       "</div>"
      ],
      "text/plain": [
       "     data_pregao sigla_acao nome_acao  preco_abertura  preco_maximo  \\\n",
       "0     2009-01-30      BBDC3  BRADESCO           18.20         18.37   \n",
       "1     2009-02-02      BBDC3  BRADESCO           18.19         18.19   \n",
       "2     2009-02-03      BBDC3  BRADESCO           17.90         17.90   \n",
       "3     2009-02-04      BBDC3  BRADESCO           17.90         18.30   \n",
       "4     2009-02-05      BBDC3  BRADESCO           18.00         18.80   \n",
       "...          ...        ...       ...             ...           ...   \n",
       "3860  2024-08-30      BBDC3  BRADESCO           13.98         14.15   \n",
       "3861  2024-09-02      BBDC3  BRADESCO           14.03         14.09   \n",
       "3862  2024-09-03      BBDC3  BRADESCO           14.04         14.24   \n",
       "3863  2024-09-04      BBDC3  BRADESCO           14.25         14.50   \n",
       "3864  2024-09-05      BBDC3  BRADESCO           14.29         14.48   \n",
       "\n",
       "      preco_minimo  preco_fechamento  qtd_negocios  volume_negocios    mm5d  \\\n",
       "0            17.97             17.89       49300.0     8.924360e+07  18.288   \n",
       "1            17.51             17.83       40800.0     7.212550e+07  18.216   \n",
       "2            17.35             18.07      115100.0     2.027093e+08  18.146   \n",
       "3            17.74             18.61       54700.0     9.851760e+07  18.038   \n",
       "4            17.78             18.91       99800.0     1.834868e+08  18.120   \n",
       "...            ...               ...           ...              ...     ...   \n",
       "3860         13.98             14.02    10668200.0     1.506262e+10  14.106   \n",
       "3861         13.97             14.21     2879800.0     4.038933e+09  14.084   \n",
       "3862         14.01             14.29     5143100.0     7.283326e+09  14.128   \n",
       "3863         14.21             14.38     5214100.0     7.487933e+09  14.152   \n",
       "3864         14.26             14.17     3444200.0     4.952900e+09  14.208   \n",
       "\n",
       "          mm21d  \n",
       "0     19.262381  \n",
       "1     19.109524  \n",
       "2     18.961429  \n",
       "3     18.807619  \n",
       "4     18.694286  \n",
       "...         ...  \n",
       "3860  13.450952  \n",
       "3861  13.579048  \n",
       "3862  13.671429  \n",
       "3863  13.747619  \n",
       "3864  13.829524  \n",
       "\n",
       "[3865 rows x 11 columns]"
      ]
     },
     "execution_count": 13,
     "metadata": {},
     "output_type": "execute_result"
    }
   ],
   "source": [
    "df_bradesco = df_bradesco.reset_index(drop=True)\n",
    "df_bradesco"
   ]
  },
  {
   "cell_type": "markdown",
   "id": "0cdb5d19-4af4-4f12-a0b6-b89b3a43425a",
   "metadata": {},
   "source": [
    "## Separando as features e labels"
   ]
  },
  {
   "cell_type": "code",
   "execution_count": 14,
   "id": "6cf121a4-d06e-46c4-8a79-c386cfc61e26",
   "metadata": {},
   "outputs": [],
   "source": [
    "features = df_bradesco.drop([\"sigla_acao\",\"nome_acao\",\"data_pregao\",\"preco_fechamento\"], axis=1)\n",
    "labels = df_bradesco[\"preco_fechamento\"]"
   ]
  },
  {
   "cell_type": "markdown",
   "id": "aa81ff42-2b19-432b-aec7-e5060dbf5f8c",
   "metadata": {},
   "source": [
    "## Escolhendo as melhores features com Kbest"
   ]
  },
  {
   "cell_type": "code",
   "execution_count": 15,
   "id": "533f427d-0970-4342-a328-5b49e26bbc29",
   "metadata": {},
   "outputs": [
    {
     "name": "stdout",
     "output_type": "stream",
     "text": [
      "\n",
      "Melhores features: \n",
      "{'volume_negocios': 181.82010017326988, 'mmd5d': 179.96286624004577, 'qtd_negocios': 149.09922161481103, 'mm21d': 2.6609238022452453}\n"
     ]
    }
   ],
   "source": [
    "features_list = ('preco_abertura','qtd_negocios','volume_negocios','mmd5d','mm21d')\n",
    "\n",
    "k_best_features = SelectKBest(k='all')\n",
    "k_best_features.fit_transform(features, labels)\n",
    "k_best_features_scores = k_best_features.scores_\n",
    "raw_pairs = zip(features_list[1:], k_best_features_scores)\n",
    "ordered_pairs = list(reversed(sorted(raw_pairs, key=lambda x: x[1])))\n",
    "\n",
    "k_best_features_final = dict(ordered_pairs[:15])\n",
    "best_features = k_best_features_final.keys()\n",
    "print('')\n",
    "print(\"Melhores features: \")\n",
    "print(k_best_features_final)"
   ]
  },
  {
   "cell_type": "markdown",
   "id": "137e2ea5-5b89-474f-a647-de3e95ed9b5e",
   "metadata": {},
   "source": [
    "## Separando as features "
   ]
  },
  {
   "cell_type": "code",
   "execution_count": 16,
   "id": "cbe4c636-3998-4d9a-8b43-e295b41d2c98",
   "metadata": {},
   "outputs": [],
   "source": [
    "features = df_bradesco.drop(['sigla_acao','nome_acao','data_pregao','preco_fechamento','preco_abertura','mm21d'], axis= 1)"
   ]
  },
  {
   "cell_type": "markdown",
   "id": "2fd147f8-d8ad-4973-8c5a-fd182d8c4219",
   "metadata": {},
   "source": [
    "## Normalizando os dados de entrada(features)"
   ]
  },
  {
   "cell_type": "code",
   "execution_count": 17,
   "id": "4f181ccc-f418-40be-b235-fd3de65c6f68",
   "metadata": {},
   "outputs": [
    {
     "name": "stdout",
     "output_type": "stream",
     "text": [
      "Features:  (3865, 5)\n",
      "[[2.38781526e-01 2.38896366e-01 5.71805360e-04 2.87025414e-04\n",
      "  2.44761905e-01]\n",
      " [2.32885686e-01 2.23418573e-01 4.25849037e-04 1.95238944e-04\n",
      "  2.42312925e-01]\n",
      " [2.23386833e-01 2.18034993e-01 1.70167901e-03 8.95423313e-04\n",
      "  2.39931973e-01]\n",
      " ...\n",
      " [1.03504749e-01 1.05652759e-01 8.80391369e-02 3.88613639e-02\n",
      "  1.03265306e-01]\n",
      " [1.12020963e-01 1.12382234e-01 8.92583015e-02 3.99584615e-02\n",
      "  1.04081633e-01]\n",
      " [1.11365870e-01 1.14064603e-01 5.88667608e-02 2.63657267e-02\n",
      "  1.05986395e-01]]\n"
     ]
    }
   ],
   "source": [
    "# gerando um novo padrão\n",
    "scaler = MinMaxScaler().fit(features)\n",
    "features_scale = scaler.transform(features)\n",
    "\n",
    "print('Features: ', features_scale.shape)\n",
    "print(features_scale) # normalizando os dados de entrada(fetures)"
   ]
  },
  {
   "cell_type": "markdown",
   "id": "e2347c17-32c6-42a0-a56b-9ee3c05bd1be",
   "metadata": {},
   "source": [
    "## Separando dados de treino, teste e validação "
   ]
  },
  {
   "cell_type": "code",
   "execution_count": 18,
   "id": "9539b06f-d4b5-4bfe-8574-da43481849d7",
   "metadata": {},
   "outputs": [
    {
     "name": "stdout",
     "output_type": "stream",
     "text": [
      "3165 3165\n",
      "685 685\n"
     ]
    }
   ],
   "source": [
    "X_train = features_scale[:qtd_linhas_treino]\n",
    "X_test = features_scale[qtd_linhas_treino:qtd_linhas_teste]\n",
    "\n",
    "y_train = labels[:qtd_linhas_treino]\n",
    "y_test = labels[qtd_linhas_treino:qtd_linhas_teste]\n",
    "\n",
    "print(len(X_train), len(y_train))\n",
    "\n",
    "print(len(X_test), len(y_test))"
   ]
  },
  {
   "cell_type": "markdown",
   "id": "4ec8950e-08a3-4993-b20f-3545656ca278",
   "metadata": {},
   "source": [
    "## Escolhendo os melhores modelos"
   ]
  },
  {
   "cell_type": "markdown",
   "id": "a7276bce-b77a-4061-8e2e-88e775b9bd5d",
   "metadata": {},
   "source": [
    "#### Regressão linear"
   ]
  },
  {
   "cell_type": "code",
   "execution_count": 19,
   "id": "46dace54-02b1-4545-b8c5-e1ed82fad8e4",
   "metadata": {},
   "outputs": [
    {
     "data": {
      "text/plain": [
       "'Coeficiente de determinação: 74.87'"
      ]
     },
     "execution_count": 19,
     "metadata": {},
     "output_type": "execute_result"
    }
   ],
   "source": [
    "lr = linear_model.LinearRegression() # instanciando a funcao\n",
    "lr.fit(X_train, y_train) # treinando\n",
    "pred = lr.predict(X_test) \n",
    "cd = r2_score(y_test,pred) # o quao proximo os dados estao prox da linha de regressao\n",
    "\n",
    "f\"Coeficiente de determinação: {cd * 100:.2f}\""
   ]
  },
  {
   "cell_type": "markdown",
   "id": "cecbb3a8-172d-4b92-8ea9-276cef125f92",
   "metadata": {},
   "source": [
    "#### Rede Neural"
   ]
  },
  {
   "cell_type": "code",
   "execution_count": 20,
   "id": "83018c08-6555-432f-972a-5f77891ad92d",
   "metadata": {},
   "outputs": [
    {
     "data": {
      "text/plain": [
       "'Coeficiente de determinação: 78.37'"
      ]
     },
     "execution_count": 20,
     "metadata": {},
     "output_type": "execute_result"
    }
   ],
   "source": [
    "rn = MLPRegressor(max_iter=2000)\n",
    "\n",
    "rn.fit(X_train, y_train)\n",
    "pred = rn.predict(X_test)\n",
    "\n",
    "cd = rn.score(X_test, y_test)\n",
    "\n",
    "f\"Coeficiente de determinação: {cd * 100:.2f}\""
   ]
  },
  {
   "cell_type": "markdown",
   "id": "ddf1d9b4-690b-4776-9979-00e36c38a3f7",
   "metadata": {},
   "source": [
    "#### Rede Neural com ajuste hyper parameters"
   ]
  },
  {
   "cell_type": "code",
   "execution_count": 21,
   "id": "bb894a47-386d-4164-9b9a-2d0637486a8c",
   "metadata": {},
   "outputs": [
    {
     "name": "stdout",
     "output_type": "stream",
     "text": [
      "Coeficiente de determinação: 73.21\n",
      "Coeficiente de determinação: 0.6073\n",
      "Coeficiente de determinação: 1.1390\n"
     ]
    }
   ],
   "source": [
    "rn = MLPRegressor(max_iter=2000) # instanciando módulo\n",
    "\n",
    "# normaliza os dados de entrada\n",
    "scaler = StandardScaler()\n",
    "\n",
    "# definição do pipeline para escalonamento e treinamento permitindo o escalonamento de forma integrada\n",
    "pipeline = Pipeline([\n",
    "    ('scaler',scaler),\n",
    "    ('mlp', rn)\n",
    "])\n",
    "\n",
    "# ajustando espaço de busca de hiperparâmetros\n",
    "parameter_scape = {\n",
    "    'mlp__hidden_layer_sizes':[(i,)for i in list(range(1,21))], # numero de neuronios na camada oculta\n",
    "    'mlp__activation': ['tanh','relu'], # funcões de ativação (hiperbolica tangente,)\n",
    "    'mlp__solver':['sgd','adam','lbfgs'],\n",
    "    'mlp__alpha': [0.0001,0.05], #regularização L2\n",
    "    'mlp__learning_rate': ['constant', 'adaptive'] # taxa de aprendizado que pode ser constante ou adaptativa\n",
    "}\n",
    "\n",
    "# faz uma busca exaustiva nos hiperparametros definidos em parameter_scape\n",
    "search = GridSearchCV(pipeline, parameter_scape, n_jobs=-1, cv=5)\n",
    "\n",
    "search.fit(X_train,y_train) # treinando o modelo\n",
    "clf = search.best_estimator_ # armazena o modelo com os melhores hiperparametros\n",
    "pred = search.predict(X_test) # realizando predição no conjunto de testes\n",
    "\n",
    "# Aplicando métricas para ver o desempenho do modelo\n",
    "cd = search.score(X_test, y_test) # retornando coeficiente de determinação\n",
    "mae = mean_absolute_error(y_test,pred) # erro absoluto médio\n",
    "mse = mean_squared_error(y_test, pred) # erro quadrático médio\n",
    "\n",
    "print(f\"Coeficiente de determinação: {cd *100:.2f}\")\n",
    "print(f\"Coeficiente de determinação: {mae:.4f}\")\n",
    "print(f\"Coeficiente de determinação: {mse:.4f}\")"
   ]
  },
  {
   "cell_type": "markdown",
   "id": "cedeb085-ca95-4958-bf6b-ed5fc552ef55",
   "metadata": {},
   "source": [
    "## Executando a previsão"
   ]
  },
  {
   "cell_type": "code",
   "execution_count": 28,
   "id": "03c7a93f-7d1e-446e-998c-d6a5944d66c1",
   "metadata": {},
   "outputs": [
    {
     "name": "stdout",
     "output_type": "stream",
     "text": [
      "              real   previsao\n",
      "data_pregao                  \n",
      "2024-08-16     NaN  13.535563\n",
      "2024-08-19   14.09  13.673281\n",
      "2024-08-20   14.06  14.015949\n",
      "2024-08-21   14.04  14.112747\n",
      "2024-08-22   14.03  14.083560\n",
      "2024-08-23   14.20  14.225228\n",
      "2024-08-26   14.13  14.227088\n",
      "2024-08-27   13.99  14.110795\n",
      "2024-08-28   14.17  14.099255\n",
      "2024-08-29   14.10  14.173505\n",
      "2024-08-30   14.14  14.077137\n",
      "2024-09-02   14.02  14.168790\n",
      "2024-09-03   14.21  14.221894\n",
      "2024-09-04   14.29  14.431849\n",
      "2024-09-05   14.38  14.478675\n"
     ]
    }
   ],
   "source": [
    "previsao = features_scale[qtd_linhas_teste:qtd_linhas]\n",
    "\n",
    "data_pregao_full = df_bradesco['data_pregao']\n",
    "data_pregao = data_pregao_full[qtd_linhas_teste:qtd_linhas]\n",
    "\n",
    "res_full = df_bradesco['preco_fechamento']\n",
    "res = res_full[qtd_linhas_teste:qtd_linhas]\n",
    "\n",
    "pred = lr.predict(previsao)\n",
    "df = pd.DataFrame({\"data_pregao\":data_pregao, \"real\":res, \"previsao\":pred})\n",
    "df[\"real\"] = df[\"real\"].shift(+1)\n",
    "\n",
    "df.set_index(\"data_pregao\", inplace=True)\n",
    "print(df)"
   ]
  },
  {
   "cell_type": "markdown",
   "id": "2d055cc8-45b4-4c0f-b06b-cdaa89e6800c",
   "metadata": {},
   "source": [
    "## Visualizando em um gráfico "
   ]
  },
  {
   "cell_type": "code",
   "execution_count": 43,
   "id": "0507486f-d71e-4ddc-9070-9615e377a16d",
   "metadata": {},
   "outputs": [
    {
     "data": {
      "application/vnd.plotly.v1+json": {
       "config": {
        "plotlyServerURL": "https://plot.ly"
       },
       "data": [
        {
         "line": {
          "color": "blue"
         },
         "marker": {
          "symbol": "circle"
         },
         "mode": "lines+markers",
         "name": "Real",
         "type": "scatter",
         "x": [
          "2024-08-16T00:00:00",
          "2024-08-19T00:00:00",
          "2024-08-20T00:00:00",
          "2024-08-21T00:00:00",
          "2024-08-22T00:00:00",
          "2024-08-23T00:00:00",
          "2024-08-26T00:00:00",
          "2024-08-27T00:00:00",
          "2024-08-28T00:00:00",
          "2024-08-29T00:00:00",
          "2024-08-30T00:00:00",
          "2024-09-02T00:00:00",
          "2024-09-03T00:00:00",
          "2024-09-04T00:00:00",
          "2024-09-05T00:00:00"
         ],
         "y": [
          null,
          14.09,
          14.06,
          14.04,
          14.03,
          14.2,
          14.13,
          13.99,
          14.17,
          14.1,
          14.14,
          14.02,
          14.21,
          14.29,
          14.38
         ]
        },
        {
         "line": {
          "color": "red"
         },
         "marker": {
          "symbol": "circle"
         },
         "mode": "lines+markers",
         "name": "Previsao",
         "type": "scatter",
         "x": [
          "2024-08-16T00:00:00",
          "2024-08-19T00:00:00",
          "2024-08-20T00:00:00",
          "2024-08-21T00:00:00",
          "2024-08-22T00:00:00",
          "2024-08-23T00:00:00",
          "2024-08-26T00:00:00",
          "2024-08-27T00:00:00",
          "2024-08-28T00:00:00",
          "2024-08-29T00:00:00",
          "2024-08-30T00:00:00",
          "2024-09-02T00:00:00",
          "2024-09-03T00:00:00",
          "2024-09-04T00:00:00",
          "2024-09-05T00:00:00"
         ],
         "y": [
          13.535563198228338,
          13.673280568792702,
          14.015949371789898,
          14.112746709135223,
          14.0835598884636,
          14.225228497078199,
          14.227088356238484,
          14.110794570418234,
          14.099255381923399,
          14.173505282529213,
          14.077137179439436,
          14.168790396219638,
          14.221894092936221,
          14.43184929064875,
          14.478675094258493
         ]
        }
       ],
       "layout": {
        "autosize": false,
        "height": 400,
        "template": {
         "data": {
          "bar": [
           {
            "error_x": {
             "color": "#2a3f5f"
            },
            "error_y": {
             "color": "#2a3f5f"
            },
            "marker": {
             "line": {
              "color": "#E5ECF6",
              "width": 0.5
             },
             "pattern": {
              "fillmode": "overlay",
              "size": 10,
              "solidity": 0.2
             }
            },
            "type": "bar"
           }
          ],
          "barpolar": [
           {
            "marker": {
             "line": {
              "color": "#E5ECF6",
              "width": 0.5
             },
             "pattern": {
              "fillmode": "overlay",
              "size": 10,
              "solidity": 0.2
             }
            },
            "type": "barpolar"
           }
          ],
          "carpet": [
           {
            "aaxis": {
             "endlinecolor": "#2a3f5f",
             "gridcolor": "white",
             "linecolor": "white",
             "minorgridcolor": "white",
             "startlinecolor": "#2a3f5f"
            },
            "baxis": {
             "endlinecolor": "#2a3f5f",
             "gridcolor": "white",
             "linecolor": "white",
             "minorgridcolor": "white",
             "startlinecolor": "#2a3f5f"
            },
            "type": "carpet"
           }
          ],
          "choropleth": [
           {
            "colorbar": {
             "outlinewidth": 0,
             "ticks": ""
            },
            "type": "choropleth"
           }
          ],
          "contour": [
           {
            "colorbar": {
             "outlinewidth": 0,
             "ticks": ""
            },
            "colorscale": [
             [
              0,
              "#0d0887"
             ],
             [
              0.1111111111111111,
              "#46039f"
             ],
             [
              0.2222222222222222,
              "#7201a8"
             ],
             [
              0.3333333333333333,
              "#9c179e"
             ],
             [
              0.4444444444444444,
              "#bd3786"
             ],
             [
              0.5555555555555556,
              "#d8576b"
             ],
             [
              0.6666666666666666,
              "#ed7953"
             ],
             [
              0.7777777777777778,
              "#fb9f3a"
             ],
             [
              0.8888888888888888,
              "#fdca26"
             ],
             [
              1,
              "#f0f921"
             ]
            ],
            "type": "contour"
           }
          ],
          "contourcarpet": [
           {
            "colorbar": {
             "outlinewidth": 0,
             "ticks": ""
            },
            "type": "contourcarpet"
           }
          ],
          "heatmap": [
           {
            "colorbar": {
             "outlinewidth": 0,
             "ticks": ""
            },
            "colorscale": [
             [
              0,
              "#0d0887"
             ],
             [
              0.1111111111111111,
              "#46039f"
             ],
             [
              0.2222222222222222,
              "#7201a8"
             ],
             [
              0.3333333333333333,
              "#9c179e"
             ],
             [
              0.4444444444444444,
              "#bd3786"
             ],
             [
              0.5555555555555556,
              "#d8576b"
             ],
             [
              0.6666666666666666,
              "#ed7953"
             ],
             [
              0.7777777777777778,
              "#fb9f3a"
             ],
             [
              0.8888888888888888,
              "#fdca26"
             ],
             [
              1,
              "#f0f921"
             ]
            ],
            "type": "heatmap"
           }
          ],
          "heatmapgl": [
           {
            "colorbar": {
             "outlinewidth": 0,
             "ticks": ""
            },
            "colorscale": [
             [
              0,
              "#0d0887"
             ],
             [
              0.1111111111111111,
              "#46039f"
             ],
             [
              0.2222222222222222,
              "#7201a8"
             ],
             [
              0.3333333333333333,
              "#9c179e"
             ],
             [
              0.4444444444444444,
              "#bd3786"
             ],
             [
              0.5555555555555556,
              "#d8576b"
             ],
             [
              0.6666666666666666,
              "#ed7953"
             ],
             [
              0.7777777777777778,
              "#fb9f3a"
             ],
             [
              0.8888888888888888,
              "#fdca26"
             ],
             [
              1,
              "#f0f921"
             ]
            ],
            "type": "heatmapgl"
           }
          ],
          "histogram": [
           {
            "marker": {
             "pattern": {
              "fillmode": "overlay",
              "size": 10,
              "solidity": 0.2
             }
            },
            "type": "histogram"
           }
          ],
          "histogram2d": [
           {
            "colorbar": {
             "outlinewidth": 0,
             "ticks": ""
            },
            "colorscale": [
             [
              0,
              "#0d0887"
             ],
             [
              0.1111111111111111,
              "#46039f"
             ],
             [
              0.2222222222222222,
              "#7201a8"
             ],
             [
              0.3333333333333333,
              "#9c179e"
             ],
             [
              0.4444444444444444,
              "#bd3786"
             ],
             [
              0.5555555555555556,
              "#d8576b"
             ],
             [
              0.6666666666666666,
              "#ed7953"
             ],
             [
              0.7777777777777778,
              "#fb9f3a"
             ],
             [
              0.8888888888888888,
              "#fdca26"
             ],
             [
              1,
              "#f0f921"
             ]
            ],
            "type": "histogram2d"
           }
          ],
          "histogram2dcontour": [
           {
            "colorbar": {
             "outlinewidth": 0,
             "ticks": ""
            },
            "colorscale": [
             [
              0,
              "#0d0887"
             ],
             [
              0.1111111111111111,
              "#46039f"
             ],
             [
              0.2222222222222222,
              "#7201a8"
             ],
             [
              0.3333333333333333,
              "#9c179e"
             ],
             [
              0.4444444444444444,
              "#bd3786"
             ],
             [
              0.5555555555555556,
              "#d8576b"
             ],
             [
              0.6666666666666666,
              "#ed7953"
             ],
             [
              0.7777777777777778,
              "#fb9f3a"
             ],
             [
              0.8888888888888888,
              "#fdca26"
             ],
             [
              1,
              "#f0f921"
             ]
            ],
            "type": "histogram2dcontour"
           }
          ],
          "mesh3d": [
           {
            "colorbar": {
             "outlinewidth": 0,
             "ticks": ""
            },
            "type": "mesh3d"
           }
          ],
          "parcoords": [
           {
            "line": {
             "colorbar": {
              "outlinewidth": 0,
              "ticks": ""
             }
            },
            "type": "parcoords"
           }
          ],
          "pie": [
           {
            "automargin": true,
            "type": "pie"
           }
          ],
          "scatter": [
           {
            "fillpattern": {
             "fillmode": "overlay",
             "size": 10,
             "solidity": 0.2
            },
            "type": "scatter"
           }
          ],
          "scatter3d": [
           {
            "line": {
             "colorbar": {
              "outlinewidth": 0,
              "ticks": ""
             }
            },
            "marker": {
             "colorbar": {
              "outlinewidth": 0,
              "ticks": ""
             }
            },
            "type": "scatter3d"
           }
          ],
          "scattercarpet": [
           {
            "marker": {
             "colorbar": {
              "outlinewidth": 0,
              "ticks": ""
             }
            },
            "type": "scattercarpet"
           }
          ],
          "scattergeo": [
           {
            "marker": {
             "colorbar": {
              "outlinewidth": 0,
              "ticks": ""
             }
            },
            "type": "scattergeo"
           }
          ],
          "scattergl": [
           {
            "marker": {
             "colorbar": {
              "outlinewidth": 0,
              "ticks": ""
             }
            },
            "type": "scattergl"
           }
          ],
          "scattermapbox": [
           {
            "marker": {
             "colorbar": {
              "outlinewidth": 0,
              "ticks": ""
             }
            },
            "type": "scattermapbox"
           }
          ],
          "scatterpolar": [
           {
            "marker": {
             "colorbar": {
              "outlinewidth": 0,
              "ticks": ""
             }
            },
            "type": "scatterpolar"
           }
          ],
          "scatterpolargl": [
           {
            "marker": {
             "colorbar": {
              "outlinewidth": 0,
              "ticks": ""
             }
            },
            "type": "scatterpolargl"
           }
          ],
          "scatterternary": [
           {
            "marker": {
             "colorbar": {
              "outlinewidth": 0,
              "ticks": ""
             }
            },
            "type": "scatterternary"
           }
          ],
          "surface": [
           {
            "colorbar": {
             "outlinewidth": 0,
             "ticks": ""
            },
            "colorscale": [
             [
              0,
              "#0d0887"
             ],
             [
              0.1111111111111111,
              "#46039f"
             ],
             [
              0.2222222222222222,
              "#7201a8"
             ],
             [
              0.3333333333333333,
              "#9c179e"
             ],
             [
              0.4444444444444444,
              "#bd3786"
             ],
             [
              0.5555555555555556,
              "#d8576b"
             ],
             [
              0.6666666666666666,
              "#ed7953"
             ],
             [
              0.7777777777777778,
              "#fb9f3a"
             ],
             [
              0.8888888888888888,
              "#fdca26"
             ],
             [
              1,
              "#f0f921"
             ]
            ],
            "type": "surface"
           }
          ],
          "table": [
           {
            "cells": {
             "fill": {
              "color": "#EBF0F8"
             },
             "line": {
              "color": "white"
             }
            },
            "header": {
             "fill": {
              "color": "#C8D4E3"
             },
             "line": {
              "color": "white"
             }
            },
            "type": "table"
           }
          ]
         },
         "layout": {
          "annotationdefaults": {
           "arrowcolor": "#2a3f5f",
           "arrowhead": 0,
           "arrowwidth": 1
          },
          "autotypenumbers": "strict",
          "coloraxis": {
           "colorbar": {
            "outlinewidth": 0,
            "ticks": ""
           }
          },
          "colorscale": {
           "diverging": [
            [
             0,
             "#8e0152"
            ],
            [
             0.1,
             "#c51b7d"
            ],
            [
             0.2,
             "#de77ae"
            ],
            [
             0.3,
             "#f1b6da"
            ],
            [
             0.4,
             "#fde0ef"
            ],
            [
             0.5,
             "#f7f7f7"
            ],
            [
             0.6,
             "#e6f5d0"
            ],
            [
             0.7,
             "#b8e186"
            ],
            [
             0.8,
             "#7fbc41"
            ],
            [
             0.9,
             "#4d9221"
            ],
            [
             1,
             "#276419"
            ]
           ],
           "sequential": [
            [
             0,
             "#0d0887"
            ],
            [
             0.1111111111111111,
             "#46039f"
            ],
            [
             0.2222222222222222,
             "#7201a8"
            ],
            [
             0.3333333333333333,
             "#9c179e"
            ],
            [
             0.4444444444444444,
             "#bd3786"
            ],
            [
             0.5555555555555556,
             "#d8576b"
            ],
            [
             0.6666666666666666,
             "#ed7953"
            ],
            [
             0.7777777777777778,
             "#fb9f3a"
            ],
            [
             0.8888888888888888,
             "#fdca26"
            ],
            [
             1,
             "#f0f921"
            ]
           ],
           "sequentialminus": [
            [
             0,
             "#0d0887"
            ],
            [
             0.1111111111111111,
             "#46039f"
            ],
            [
             0.2222222222222222,
             "#7201a8"
            ],
            [
             0.3333333333333333,
             "#9c179e"
            ],
            [
             0.4444444444444444,
             "#bd3786"
            ],
            [
             0.5555555555555556,
             "#d8576b"
            ],
            [
             0.6666666666666666,
             "#ed7953"
            ],
            [
             0.7777777777777778,
             "#fb9f3a"
            ],
            [
             0.8888888888888888,
             "#fdca26"
            ],
            [
             1,
             "#f0f921"
            ]
           ]
          },
          "colorway": [
           "#636efa",
           "#EF553B",
           "#00cc96",
           "#ab63fa",
           "#FFA15A",
           "#19d3f3",
           "#FF6692",
           "#B6E880",
           "#FF97FF",
           "#FECB52"
          ],
          "font": {
           "color": "#2a3f5f"
          },
          "geo": {
           "bgcolor": "white",
           "lakecolor": "white",
           "landcolor": "#E5ECF6",
           "showlakes": true,
           "showland": true,
           "subunitcolor": "white"
          },
          "hoverlabel": {
           "align": "left"
          },
          "hovermode": "closest",
          "mapbox": {
           "style": "light"
          },
          "paper_bgcolor": "white",
          "plot_bgcolor": "#E5ECF6",
          "polar": {
           "angularaxis": {
            "gridcolor": "white",
            "linecolor": "white",
            "ticks": ""
           },
           "bgcolor": "#E5ECF6",
           "radialaxis": {
            "gridcolor": "white",
            "linecolor": "white",
            "ticks": ""
           }
          },
          "scene": {
           "xaxis": {
            "backgroundcolor": "#E5ECF6",
            "gridcolor": "white",
            "gridwidth": 2,
            "linecolor": "white",
            "showbackground": true,
            "ticks": "",
            "zerolinecolor": "white"
           },
           "yaxis": {
            "backgroundcolor": "#E5ECF6",
            "gridcolor": "white",
            "gridwidth": 2,
            "linecolor": "white",
            "showbackground": true,
            "ticks": "",
            "zerolinecolor": "white"
           },
           "zaxis": {
            "backgroundcolor": "#E5ECF6",
            "gridcolor": "white",
            "gridwidth": 2,
            "linecolor": "white",
            "showbackground": true,
            "ticks": "",
            "zerolinecolor": "white"
           }
          },
          "shapedefaults": {
           "line": {
            "color": "#2a3f5f"
           }
          },
          "ternary": {
           "aaxis": {
            "gridcolor": "white",
            "linecolor": "white",
            "ticks": ""
           },
           "baxis": {
            "gridcolor": "white",
            "linecolor": "white",
            "ticks": ""
           },
           "bgcolor": "#E5ECF6",
           "caxis": {
            "gridcolor": "white",
            "linecolor": "white",
            "ticks": ""
           }
          },
          "title": {
           "x": 0.05
          },
          "xaxis": {
           "automargin": true,
           "gridcolor": "white",
           "linecolor": "white",
           "ticks": "",
           "title": {
            "standoff": 15
           },
           "zerolinecolor": "white",
           "zerolinewidth": 2
          },
          "yaxis": {
           "automargin": true,
           "gridcolor": "white",
           "linecolor": "white",
           "ticks": "",
           "title": {
            "standoff": 15
           },
           "zerolinecolor": "white",
           "zerolinewidth": 2
          }
         }
        },
        "title": {
         "text": "Preco das ações"
        },
        "width": 800,
        "xaxis": {
         "autorange": true,
         "range": [
          "2024-08-14 17:34:38.8732",
          "2024-09-06 06:25:21.1268"
         ],
         "title": {
          "text": "Data Pregao"
         },
         "type": "date"
        },
        "yaxis": {
         "autorange": true,
         "range": [
          13.462540098666949,
          14.551698193819883
         ],
         "title": {
          "text": "Preço de Fechamento"
         },
         "type": "linear"
        }
       }
      },
      "image/png": "[encoded data removed]",
      "text/html": [
       "<div>                            <div id=\"218e5ac9-f90a-4a54-b441-46d6efab434c\" class=\"plotly-graph-div\" style=\"height:400px; width:800px;\"></div>            <script type=\"text/javascript\">                require([\"plotly\"], function(Plotly) {                    window.PLOTLYENV=window.PLOTLYENV || {};                                    if (document.getElementById(\"218e5ac9-f90a-4a54-b441-46d6efab434c\")) {                    Plotly.newPlot(                        \"218e5ac9-f90a-4a54-b441-46d6efab434c\",                        [{\"line\":{\"color\":\"blue\"},\"marker\":{\"symbol\":\"circle\"},\"mode\":\"lines+markers\",\"name\":\"Real\",\"x\":[\"2024-08-16T00:00:00\",\"2024-08-19T00:00:00\",\"2024-08-20T00:00:00\",\"2024-08-21T00:00:00\",\"2024-08-22T00:00:00\",\"2024-08-23T00:00:00\",\"2024-08-26T00:00:00\",\"2024-08-27T00:00:00\",\"2024-08-28T00:00:00\",\"2024-08-29T00:00:00\",\"2024-08-30T00:00:00\",\"2024-09-02T00:00:00\",\"2024-09-03T00:00:00\",\"2024-09-04T00:00:00\",\"2024-09-05T00:00:00\"],\"y\":[null,14.09,14.06,14.04,14.03,14.2,14.13,13.99,14.17,14.1,14.14,14.02,14.21,14.29,14.38],\"type\":\"scatter\"},{\"line\":{\"color\":\"red\"},\"marker\":{\"symbol\":\"circle\"},\"mode\":\"lines+markers\",\"name\":\"Previsao\",\"x\":[\"2024-08-16T00:00:00\",\"2024-08-19T00:00:00\",\"2024-08-20T00:00:00\",\"2024-08-21T00:00:00\",\"2024-08-22T00:00:00\",\"2024-08-23T00:00:00\",\"2024-08-26T00:00:00\",\"2024-08-27T00:00:00\",\"2024-08-28T00:00:00\",\"2024-08-29T00:00:00\",\"2024-08-30T00:00:00\",\"2024-09-02T00:00:00\",\"2024-09-03T00:00:00\",\"2024-09-04T00:00:00\",\"2024-09-05T00:00:00\"],\"y\":[13.535563198228338,13.673280568792702,14.015949371789898,14.112746709135223,14.0835598884636,14.225228497078199,14.227088356238484,14.110794570418234,14.099255381923399,14.173505282529213,14.077137179439436,14.168790396219638,14.221894092936221,14.43184929064875,14.478675094258493],\"type\":\"scatter\"}],                        {\"template\":{\"data\":{\"histogram2dcontour\":[{\"type\":\"histogram2dcontour\",\"colorbar\":{\"outlinewidth\":0,\"ticks\":\"\"},\"colorscale\":[[0.0,\"#0d0887\"],[0.1111111111111111,\"#46039f\"],[0.2222222222222222,\"#7201a8\"],[0.3333333333333333,\"#9c179e\"],[0.4444444444444444,\"#bd3786\"],[0.5555555555555556,\"#d8576b\"],[0.6666666666666666,\"#ed7953\"],[0.7777777777777778,\"#fb9f3a\"],[0.8888888888888888,\"#fdca26\"],[1.0,\"#f0f921\"]]}],\"choropleth\":[{\"type\":\"choropleth\",\"colorbar\":{\"outlinewidth\":0,\"ticks\":\"\"}}],\"histogram2d\":[{\"type\":\"histogram2d\",\"colorbar\":{\"outlinewidth\":0,\"ticks\":\"\"},\"colorscale\":[[0.0,\"#0d0887\"],[0.1111111111111111,\"#46039f\"],[0.2222222222222222,\"#7201a8\"],[0.3333333333333333,\"#9c179e\"],[0.4444444444444444,\"#bd3786\"],[0.5555555555555556,\"#d8576b\"],[0.6666666666666666,\"#ed7953\"],[0.7777777777777778,\"#fb9f3a\"],[0.8888888888888888,\"#fdca26\"],[1.0,\"#f0f921\"]]}],\"heatmap\":[{\"type\":\"heatmap\",\"colorbar\":{\"outlinewidth\":0,\"ticks\":\"\"},\"colorscale\":[[0.0,\"#0d0887\"],[0.1111111111111111,\"#46039f\"],[0.2222222222222222,\"#7201a8\"],[0.3333333333333333,\"#9c179e\"],[0.4444444444444444,\"#bd3786\"],[0.5555555555555556,\"#d8576b\"],[0.6666666666666666,\"#ed7953\"],[0.7777777777777778,\"#fb9f3a\"],[0.8888888888888888,\"#fdca26\"],[1.0,\"#f0f921\"]]}],\"heatmapgl\":[{\"type\":\"heatmapgl\",\"colorbar\":{\"outlinewidth\":0,\"ticks\":\"\"},\"colorscale\":[[0.0,\"#0d0887\"],[0.1111111111111111,\"#46039f\"],[0.2222222222222222,\"#7201a8\"],[0.3333333333333333,\"#9c179e\"],[0.4444444444444444,\"#bd3786\"],[0.5555555555555556,\"#d8576b\"],[0.6666666666666666,\"#ed7953\"],[0.7777777777777778,\"#fb9f3a\"],[0.8888888888888888,\"#fdca26\"],[1.0,\"#f0f921\"]]}],\"contourcarpet\":[{\"type\":\"contourcarpet\",\"colorbar\":{\"outlinewidth\":0,\"ticks\":\"\"}}],\"contour\":[{\"type\":\"contour\",\"colorbar\":{\"outlinewidth\":0,\"ticks\":\"\"},\"colorscale\":[[0.0,\"#0d0887\"],[0.1111111111111111,\"#46039f\"],[0.2222222222222222,\"#7201a8\"],[0.3333333333333333,\"#9c179e\"],[0.4444444444444444,\"#bd3786\"],[0.5555555555555556,\"#d8576b\"],[0.6666666666666666,\"#ed7953\"],[0.7777777777777778,\"#fb9f3a\"],[0.8888888888888888,\"#fdca26\"],[1.0,\"#f0f921\"]]}],\"surface\":[{\"type\":\"surface\",\"colorbar\":{\"outlinewidth\":0,\"ticks\":\"\"},\"colorscale\":[[0.0,\"#0d0887\"],[0.1111111111111111,\"#46039f\"],[0.2222222222222222,\"#7201a8\"],[0.3333333333333333,\"#9c179e\"],[0.4444444444444444,\"#bd3786\"],[0.5555555555555556,\"#d8576b\"],[0.6666666666666666,\"#ed7953\"],[0.7777777777777778,\"#fb9f3a\"],[0.8888888888888888,\"#fdca26\"],[1.0,\"#f0f921\"]]}],\"mesh3d\":[{\"type\":\"mesh3d\",\"colorbar\":{\"outlinewidth\":0,\"ticks\":\"\"}}],\"scatter\":[{\"fillpattern\":{\"fillmode\":\"overlay\",\"size\":10,\"solidity\":0.2},\"type\":\"scatter\"}],\"parcoords\":[{\"type\":\"parcoords\",\"line\":{\"colorbar\":{\"outlinewidth\":0,\"ticks\":\"\"}}}],\"scatterpolargl\":[{\"type\":\"scatterpolargl\",\"marker\":{\"colorbar\":{\"outlinewidth\":0,\"ticks\":\"\"}}}],\"bar\":[{\"error_x\":{\"color\":\"#2a3f5f\"},\"error_y\":{\"color\":\"#2a3f5f\"},\"marker\":{\"line\":{\"color\":\"#E5ECF6\",\"width\":0.5},\"pattern\":{\"fillmode\":\"overlay\",\"size\":10,\"solidity\":0.2}},\"type\":\"bar\"}],\"scattergeo\":[{\"type\":\"scattergeo\",\"marker\":{\"colorbar\":{\"outlinewidth\":0,\"ticks\":\"\"}}}],\"scatterpolar\":[{\"type\":\"scatterpolar\",\"marker\":{\"colorbar\":{\"outlinewidth\":0,\"ticks\":\"\"}}}],\"histogram\":[{\"marker\":{\"pattern\":{\"fillmode\":\"overlay\",\"size\":10,\"solidity\":0.2}},\"type\":\"histogram\"}],\"scattergl\":[{\"type\":\"scattergl\",\"marker\":{\"colorbar\":{\"outlinewidth\":0,\"ticks\":\"\"}}}],\"scatter3d\":[{\"type\":\"scatter3d\",\"line\":{\"colorbar\":{\"outlinewidth\":0,\"ticks\":\"\"}},\"marker\":{\"colorbar\":{\"outlinewidth\":0,\"ticks\":\"\"}}}],\"scattermapbox\":[{\"type\":\"scattermapbox\",\"marker\":{\"colorbar\":{\"outlinewidth\":0,\"ticks\":\"\"}}}],\"scatterternary\":[{\"type\":\"scatterternary\",\"marker\":{\"colorbar\":{\"outlinewidth\":0,\"ticks\":\"\"}}}],\"scattercarpet\":[{\"type\":\"scattercarpet\",\"marker\":{\"colorbar\":{\"outlinewidth\":0,\"ticks\":\"\"}}}],\"carpet\":[{\"aaxis\":{\"endlinecolor\":\"#2a3f5f\",\"gridcolor\":\"white\",\"linecolor\":\"white\",\"minorgridcolor\":\"white\",\"startlinecolor\":\"#2a3f5f\"},\"baxis\":{\"endlinecolor\":\"#2a3f5f\",\"gridcolor\":\"white\",\"linecolor\":\"white\",\"minorgridcolor\":\"white\",\"startlinecolor\":\"#2a3f5f\"},\"type\":\"carpet\"}],\"table\":[{\"cells\":{\"fill\":{\"color\":\"#EBF0F8\"},\"line\":{\"color\":\"white\"}},\"header\":{\"fill\":{\"color\":\"#C8D4E3\"},\"line\":{\"color\":\"white\"}},\"type\":\"table\"}],\"barpolar\":[{\"marker\":{\"line\":{\"color\":\"#E5ECF6\",\"width\":0.5},\"pattern\":{\"fillmode\":\"overlay\",\"size\":10,\"solidity\":0.2}},\"type\":\"barpolar\"}],\"pie\":[{\"automargin\":true,\"type\":\"pie\"}]},\"layout\":{\"autotypenumbers\":\"strict\",\"colorway\":[\"#636efa\",\"#EF553B\",\"#00cc96\",\"#ab63fa\",\"#FFA15A\",\"#19d3f3\",\"#FF6692\",\"#B6E880\",\"#FF97FF\",\"#FECB52\"],\"font\":{\"color\":\"#2a3f5f\"},\"hovermode\":\"closest\",\"hoverlabel\":{\"align\":\"left\"},\"paper_bgcolor\":\"white\",\"plot_bgcolor\":\"#E5ECF6\",\"polar\":{\"bgcolor\":\"#E5ECF6\",\"angularaxis\":{\"gridcolor\":\"white\",\"linecolor\":\"white\",\"ticks\":\"\"},\"radialaxis\":{\"gridcolor\":\"white\",\"linecolor\":\"white\",\"ticks\":\"\"}},\"ternary\":{\"bgcolor\":\"#E5ECF6\",\"aaxis\":{\"gridcolor\":\"white\",\"linecolor\":\"white\",\"ticks\":\"\"},\"baxis\":{\"gridcolor\":\"white\",\"linecolor\":\"white\",\"ticks\":\"\"},\"caxis\":{\"gridcolor\":\"white\",\"linecolor\":\"white\",\"ticks\":\"\"}},\"coloraxis\":{\"colorbar\":{\"outlinewidth\":0,\"ticks\":\"\"}},\"colorscale\":{\"sequential\":[[0.0,\"#0d0887\"],[0.1111111111111111,\"#46039f\"],[0.2222222222222222,\"#7201a8\"],[0.3333333333333333,\"#9c179e\"],[0.4444444444444444,\"#bd3786\"],[0.5555555555555556,\"#d8576b\"],[0.6666666666666666,\"#ed7953\"],[0.7777777777777778,\"#fb9f3a\"],[0.8888888888888888,\"#fdca26\"],[1.0,\"#f0f921\"]],\"sequentialminus\":[[0.0,\"#0d0887\"],[0.1111111111111111,\"#46039f\"],[0.2222222222222222,\"#7201a8\"],[0.3333333333333333,\"#9c179e\"],[0.4444444444444444,\"#bd3786\"],[0.5555555555555556,\"#d8576b\"],[0.6666666666666666,\"#ed7953\"],[0.7777777777777778,\"#fb9f3a\"],[0.8888888888888888,\"#fdca26\"],[1.0,\"#f0f921\"]],\"diverging\":[[0,\"#8e0152\"],[0.1,\"#c51b7d\"],[0.2,\"#de77ae\"],[0.3,\"#f1b6da\"],[0.4,\"#fde0ef\"],[0.5,\"#f7f7f7\"],[0.6,\"#e6f5d0\"],[0.7,\"#b8e186\"],[0.8,\"#7fbc41\"],[0.9,\"#4d9221\"],[1,\"#276419\"]]},\"xaxis\":{\"gridcolor\":\"white\",\"linecolor\":\"white\",\"ticks\":\"\",\"title\":{\"standoff\":15},\"zerolinecolor\":\"white\",\"automargin\":true,\"zerolinewidth\":2},\"yaxis\":{\"gridcolor\":\"white\",\"linecolor\":\"white\",\"ticks\":\"\",\"title\":{\"standoff\":15},\"zerolinecolor\":\"white\",\"automargin\":true,\"zerolinewidth\":2},\"scene\":{\"xaxis\":{\"backgroundcolor\":\"#E5ECF6\",\"gridcolor\":\"white\",\"linecolor\":\"white\",\"showbackground\":true,\"ticks\":\"\",\"zerolinecolor\":\"white\",\"gridwidth\":2},\"yaxis\":{\"backgroundcolor\":\"#E5ECF6\",\"gridcolor\":\"white\",\"linecolor\":\"white\",\"showbackground\":true,\"ticks\":\"\",\"zerolinecolor\":\"white\",\"gridwidth\":2},\"zaxis\":{\"backgroundcolor\":\"#E5ECF6\",\"gridcolor\":\"white\",\"linecolor\":\"white\",\"showbackground\":true,\"ticks\":\"\",\"zerolinecolor\":\"white\",\"gridwidth\":2}},\"shapedefaults\":{\"line\":{\"color\":\"#2a3f5f\"}},\"annotationdefaults\":{\"arrowcolor\":\"#2a3f5f\",\"arrowhead\":0,\"arrowwidth\":1},\"geo\":{\"bgcolor\":\"white\",\"landcolor\":\"#E5ECF6\",\"subunitcolor\":\"white\",\"showland\":true,\"showlakes\":true,\"lakecolor\":\"white\"},\"title\":{\"x\":0.05},\"mapbox\":{\"style\":\"light\"}}},\"title\":{\"text\":\"Preco das a\\u00e7\\u00f5es\"},\"xaxis\":{\"title\":{\"text\":\"Data Pregao\"}},\"yaxis\":{\"title\":{\"text\":\"Pre\\u00e7o de Fechamento\"}},\"autosize\":false,\"width\":800,\"height\":400},                        {\"responsive\": true}                    ).then(function(){\n",
       "                            \n",
       "var gd = document.getElementById('218e5ac9-f90a-4a54-b441-46d6efab434c');\n",
       "var x = new MutationObserver(function (mutations, observer) {{\n",
       "        var display = window.getComputedStyle(gd).display;\n",
       "        if (!display || display === 'none') {{\n",
       "            console.log([gd, 'removed!']);\n",
       "            Plotly.purge(gd);\n",
       "            observer.disconnect();\n",
       "        }}\n",
       "}});\n",
       "\n",
       "// Listen for the removal of the full notebook cells\n",
       "var notebookContainer = gd.closest('#notebook-container');\n",
       "if (notebookContainer) {{\n",
       "    x.observe(notebookContainer, {childList: true});\n",
       "}}\n",
       "\n",
       "// Listen for the clearing of the current output cell\n",
       "var outputEl = gd.closest('.output');\n",
       "if (outputEl) {{\n",
       "    x.observe(outputEl, {childList: true});\n",
       "}}\n",
       "\n",
       "                        })                };                });            </script>        </div>"
      ]
     },
     "metadata": {},
     "output_type": "display_data"
    }
   ],
   "source": [
    "import plotly.graph_objects as go\n",
    "\n",
    "# criando figura\n",
    "fig = go.Figure()\n",
    "fig\n",
    "\n",
    "# adicionando a linha para os valores reais\n",
    "fig.add_trace(go.Scatter(x=df.index, y=df[\"real\"],mode=\"lines+markers\",\n",
    "                        name=\"Real\", line=dict(color=\"blue\"), marker=dict(symbol=\"circle\")))\n",
    "\n",
    "# adicionando linha para a previsao\n",
    "fig.add_trace(go.Scatter(x=df.index, y=df[\"previsao\"],mode=\"lines+markers\",\n",
    "                         name=\"Previsao\", line=dict(color=\"red\"), marker=dict(symbol=\"circle\")))\n",
    "\n",
    "\n",
    "# adicionando titulos e rotulos\n",
    "fig.update_layout(title=\"Preco das ações\",\n",
    "                  xaxis_title= \"Data Pregao\",\n",
    "                  yaxis_title=\"Preço de Fechamento\",\n",
    "                  autosize=False, width=800, height=400)"
   ]
  },
  {
   "cell_type": "code",
   "execution_count": null,
   "id": "bd6ccfc2-747b-450c-8745-e2f4e4bfa189",
   "metadata": {},
   "outputs": [],
   "source": []
  }
 ],
 "metadata": {
  "kernelspec": {
   "display_name": "Python 3 (ipykernel)",
   "language": "python",
   "name": "python3"
  },
  "language_info": {
   "codemirror_mode": {
    "name": "ipython",
    "version": 3
   },
   "file_extension": ".py",
   "mimetype": "text/x-python",
   "name": "python",
   "nbconvert_exporter": "python",
   "pygments_lexer": "ipython3",
   "version": "3.11.7"
  }
 },
 "nbformat": 4,
 "nbformat_minor": 5
}
